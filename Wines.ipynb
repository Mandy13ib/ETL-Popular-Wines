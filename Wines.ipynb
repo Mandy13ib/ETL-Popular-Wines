{
 "cells": [
  {
   "cell_type": "markdown",
   "metadata": {},
   "source": [
    "# ETL Project"
   ]
  },
  {
   "cell_type": "markdown",
   "metadata": {},
   "source": [
    "### -------------------------------------------------------------------------------------------------------------------------------------------------"
   ]
  },
  {
   "cell_type": "markdown",
   "metadata": {},
   "source": [
    "# Extract: your original data sources and how the data was formatted \n",
    "### Our data is being pulled from one CSV file and one XLXS file that we found on Kaggle and  Dataworld. We used Jupyter Notebooks to clean the data.\n",
    "## winemag-data_first150k_for_project.csv\n",
    "### 1.\tWe were able to extract our data with using sqlalchemy to create an engine.\n",
    "### 2.\tThen we convert the CSV into a DataFrame\n",
    "## Wines.xlsx:\n",
    "### 1.\tSince the file we were cleaning up was an .xlxs file and not a CSV file, we install openpyxl \n",
    "### 2.\tThen we used it as our engine to read the excel file. \n",
    "### 3.\tNext, we convert the file into a DataFrame\n",
    "# Transform: what data cleaning or transformation was required. \n",
    "## Steps for cleaning the winemag-data_first150k_for_project.csv:\n",
    "### 1.\tWe create new DataFrame with the selected columns we needed.\n",
    "### 2.\tThen we identified the incomplete rows and eliminated them.\n",
    "### 3.\tWe then evaluated the data to determine that the data was the appropriate type. \n",
    "### 4.\tWe renamed Pinot Grigio to match Pinot Gris in the other dataset.\n",
    "### 5.\tWe then eliminated all wines that were not included in the top 6 favorite wines per https://artwinepreserver.com/pages/types-of-wine.\n",
    "### 6.\tFinally, we reindexed the DataFrame with the remaining top 6 wines that we selected\n",
    "## Steps for cleaning the Wines.xlsx:\n",
    "\n",
    "### 1.\tWe eliminated the Vintage, County and Designation columns. \n",
    "### 2.\tWe identified the incomplete rows and then eliminated them. \n",
    "### 3.\tNext, we evaluated the data to determine if the data was the appropriate type. We noted that the Price was an object rather than a float. We then converted it to a float.\n",
    "### 4.\tWe then eliminated all wines that were not include in the top 6 favorite wines per the Art Wine Preserve website.\n",
    "### 5.\tFinally, we reindexed the DataFrame with the remaining top 6 wines that we selected.\n"
   ]
  },
  {
   "cell_type": "markdown",
   "metadata": {},
   "source": [
    "### -----------------------------------------------------------------------------------------------------------------------------------------------------"
   ]
  },
  {
   "cell_type": "markdown",
   "metadata": {},
   "source": [
    "### Add pip to open the xlsx file"
   ]
  },
  {
   "cell_type": "code",
   "execution_count": 58,
   "metadata": {
    "collapsed": true,
    "scrolled": false
   },
   "outputs": [
    {
     "name": "stdout",
     "output_type": "stream",
     "text": [
      "Requirement already satisfied: openpyxl in c:\\users\\carmi\\anaconda3\\envs\\pythondata\\lib\\site-packages (3.0.6)\n",
      "Requirement already satisfied: jdcal in c:\\users\\carmi\\anaconda3\\envs\\pythondata\\lib\\site-packages (from openpyxl) (1.4.1)\n",
      "Requirement already satisfied: et-xmlfile in c:\\users\\carmi\\anaconda3\\envs\\pythondata\\lib\\site-packages (from openpyxl) (1.0.1)\n"
     ]
    }
   ],
   "source": [
    "#!pip install openpyxl"
   ]
  },
  {
   "cell_type": "markdown",
   "metadata": {},
   "source": [
    "### Add Dependencies "
   ]
  },
  {
   "cell_type": "code",
   "execution_count": 3,
   "metadata": {
    "scrolled": false
   },
   "outputs": [],
   "source": [
    " # Dependencies\n",
    "import psycopg2 as pg2\n",
    "import pandas as pd\n",
    "from sqlalchemy import create_engine\n",
    "import os"
   ]
  },
  {
   "cell_type": "markdown",
   "metadata": {},
   "source": [
    "### Load xlsx file and store file into a DataFrame"
   ]
  },
  {
   "cell_type": "code",
   "execution_count": 134,
   "metadata": {
    "scrolled": true
   },
   "outputs": [
    {
     "data": {
      "text/html": [
       "<div>\n",
       "<style scoped>\n",
       "    .dataframe tbody tr th:only-of-type {\n",
       "        vertical-align: middle;\n",
       "    }\n",
       "\n",
       "    .dataframe tbody tr th {\n",
       "        vertical-align: top;\n",
       "    }\n",
       "\n",
       "    .dataframe thead th {\n",
       "        text-align: right;\n",
       "    }\n",
       "</style>\n",
       "<table border=\"1\" class=\"dataframe\">\n",
       "  <thead>\n",
       "    <tr style=\"text-align: right;\">\n",
       "      <th></th>\n",
       "      <th>vintage</th>\n",
       "      <th>country</th>\n",
       "      <th>county</th>\n",
       "      <th>designation</th>\n",
       "      <th>points</th>\n",
       "      <th>price</th>\n",
       "      <th>province</th>\n",
       "      <th>title</th>\n",
       "      <th>variety</th>\n",
       "      <th>winery</th>\n",
       "    </tr>\n",
       "  </thead>\n",
       "  <tbody>\n",
       "    <tr>\n",
       "      <th>0</th>\n",
       "      <td>1919-01-01 00:00:00</td>\n",
       "      <td>Spain</td>\n",
       "      <td>Cava</td>\n",
       "      <td>1919 Brut Selecció</td>\n",
       "      <td>88</td>\n",
       "      <td>$13.00</td>\n",
       "      <td>Catalonia</td>\n",
       "      <td>L'Arboc NV 1919 Brut Selecció Sparkling (Cava)</td>\n",
       "      <td>Sparkling Blend</td>\n",
       "      <td>L'Arboc</td>\n",
       "    </tr>\n",
       "    <tr>\n",
       "      <th>1</th>\n",
       "      <td>1929-01-01 00:00:00</td>\n",
       "      <td>Italy</td>\n",
       "      <td>Vernaccia di San Gimignano</td>\n",
       "      <td>NaN</td>\n",
       "      <td>87</td>\n",
       "      <td>$14.00</td>\n",
       "      <td>Tuscany</td>\n",
       "      <td>Guidi 1929 2015 Vernaccia di San Gimignano</td>\n",
       "      <td>Vernaccia</td>\n",
       "      <td>Guidi 1929</td>\n",
       "    </tr>\n",
       "    <tr>\n",
       "      <th>2</th>\n",
       "      <td>1929-01-01 00:00:00</td>\n",
       "      <td>Italy</td>\n",
       "      <td>Sangiovese di Romagna Superiore</td>\n",
       "      <td>Prugneto</td>\n",
       "      <td>84</td>\n",
       "      <td>$15.00</td>\n",
       "      <td>Central Italy</td>\n",
       "      <td>Poderi dal Nespoli 1929 2011 Prugneto (Sangiov...</td>\n",
       "      <td>Sangiovese</td>\n",
       "      <td>Poderi dal Nespoli 1929</td>\n",
       "    </tr>\n",
       "    <tr>\n",
       "      <th>3</th>\n",
       "      <td>1934-01-01 00:00:00</td>\n",
       "      <td>Portugal</td>\n",
       "      <td>NaN</td>\n",
       "      <td>Reserva Velho</td>\n",
       "      <td>93</td>\n",
       "      <td>$495.00</td>\n",
       "      <td>Colares</td>\n",
       "      <td>Adega Viuva Gomes 1934 Reserva Velho Red (Cola...</td>\n",
       "      <td>Ramisco</td>\n",
       "      <td>Adega Viuva Gomes</td>\n",
       "    </tr>\n",
       "    <tr>\n",
       "      <th>4</th>\n",
       "      <td>1945-01-01 00:00:00</td>\n",
       "      <td>France</td>\n",
       "      <td>Rivesaltes</td>\n",
       "      <td>Legend Vintage</td>\n",
       "      <td>95</td>\n",
       "      <td>$350.00</td>\n",
       "      <td>Languedoc-Roussillon</td>\n",
       "      <td>Gérard Bertrand 1945 Legend Vintage Red (Rives...</td>\n",
       "      <td>Red Blend</td>\n",
       "      <td>Gérard Bertrand</td>\n",
       "    </tr>\n",
       "  </tbody>\n",
       "</table>\n",
       "</div>"
      ],
      "text/plain": [
       "               vintage   country                           county  \\\n",
       "0  1919-01-01 00:00:00     Spain                             Cava   \n",
       "1  1929-01-01 00:00:00     Italy       Vernaccia di San Gimignano   \n",
       "2  1929-01-01 00:00:00     Italy  Sangiovese di Romagna Superiore   \n",
       "3  1934-01-01 00:00:00  Portugal                              NaN   \n",
       "4  1945-01-01 00:00:00    France                       Rivesaltes   \n",
       "\n",
       "          designation  points    price              province  \\\n",
       "0  1919 Brut Selecció      88   $13.00             Catalonia   \n",
       "1                 NaN      87   $14.00               Tuscany   \n",
       "2            Prugneto      84   $15.00         Central Italy   \n",
       "3       Reserva Velho      93  $495.00               Colares   \n",
       "4      Legend Vintage      95  $350.00  Languedoc-Roussillon   \n",
       "\n",
       "                                               title          variety  \\\n",
       "0     L'Arboc NV 1919 Brut Selecció Sparkling (Cava)  Sparkling Blend   \n",
       "1         Guidi 1929 2015 Vernaccia di San Gimignano        Vernaccia   \n",
       "2  Poderi dal Nespoli 1929 2011 Prugneto (Sangiov...       Sangiovese   \n",
       "3  Adega Viuva Gomes 1934 Reserva Velho Red (Cola...          Ramisco   \n",
       "4  Gérard Bertrand 1945 Legend Vintage Red (Rives...        Red Blend   \n",
       "\n",
       "                    winery  \n",
       "0                  L'Arboc  \n",
       "1               Guidi 1929  \n",
       "2  Poderi dal Nespoli 1929  \n",
       "3        Adega Viuva Gomes  \n",
       "4          Gérard Bertrand  "
      ]
     },
     "execution_count": 134,
     "metadata": {},
     "output_type": "execute_result"
    }
   ],
   "source": [
    "# Load data set into pandas\n",
    "data_file = \"Resources/Wines.xlsx\"\n",
    "df = pd.read_excel(data_file, engine='openpyxl')\n",
    "df.head()"
   ]
  },
  {
   "cell_type": "markdown",
   "metadata": {},
   "source": [
    "### Make new DataFrame with the needed columns"
   ]
  },
  {
   "cell_type": "code",
   "execution_count": 136,
   "metadata": {
    "scrolled": false
   },
   "outputs": [
    {
     "data": {
      "text/html": [
       "<div>\n",
       "<style scoped>\n",
       "    .dataframe tbody tr th:only-of-type {\n",
       "        vertical-align: middle;\n",
       "    }\n",
       "\n",
       "    .dataframe tbody tr th {\n",
       "        vertical-align: top;\n",
       "    }\n",
       "\n",
       "    .dataframe thead th {\n",
       "        text-align: right;\n",
       "    }\n",
       "</style>\n",
       "<table border=\"1\" class=\"dataframe\">\n",
       "  <thead>\n",
       "    <tr style=\"text-align: right;\">\n",
       "      <th></th>\n",
       "      <th>country</th>\n",
       "      <th>points</th>\n",
       "      <th>price</th>\n",
       "      <th>province</th>\n",
       "      <th>title</th>\n",
       "      <th>variety</th>\n",
       "      <th>winery</th>\n",
       "    </tr>\n",
       "  </thead>\n",
       "  <tbody>\n",
       "    <tr>\n",
       "      <th>0</th>\n",
       "      <td>Spain</td>\n",
       "      <td>88</td>\n",
       "      <td>$13.00</td>\n",
       "      <td>Catalonia</td>\n",
       "      <td>L'Arboc NV 1919 Brut Selecció Sparkling (Cava)</td>\n",
       "      <td>Sparkling Blend</td>\n",
       "      <td>L'Arboc</td>\n",
       "    </tr>\n",
       "    <tr>\n",
       "      <th>1</th>\n",
       "      <td>Italy</td>\n",
       "      <td>87</td>\n",
       "      <td>$14.00</td>\n",
       "      <td>Tuscany</td>\n",
       "      <td>Guidi 1929 2015 Vernaccia di San Gimignano</td>\n",
       "      <td>Vernaccia</td>\n",
       "      <td>Guidi 1929</td>\n",
       "    </tr>\n",
       "    <tr>\n",
       "      <th>2</th>\n",
       "      <td>Italy</td>\n",
       "      <td>84</td>\n",
       "      <td>$15.00</td>\n",
       "      <td>Central Italy</td>\n",
       "      <td>Poderi dal Nespoli 1929 2011 Prugneto (Sangiov...</td>\n",
       "      <td>Sangiovese</td>\n",
       "      <td>Poderi dal Nespoli 1929</td>\n",
       "    </tr>\n",
       "    <tr>\n",
       "      <th>3</th>\n",
       "      <td>Portugal</td>\n",
       "      <td>93</td>\n",
       "      <td>$495.00</td>\n",
       "      <td>Colares</td>\n",
       "      <td>Adega Viuva Gomes 1934 Reserva Velho Red (Cola...</td>\n",
       "      <td>Ramisco</td>\n",
       "      <td>Adega Viuva Gomes</td>\n",
       "    </tr>\n",
       "    <tr>\n",
       "      <th>4</th>\n",
       "      <td>France</td>\n",
       "      <td>95</td>\n",
       "      <td>$350.00</td>\n",
       "      <td>Languedoc-Roussillon</td>\n",
       "      <td>Gérard Bertrand 1945 Legend Vintage Red (Rives...</td>\n",
       "      <td>Red Blend</td>\n",
       "      <td>Gérard Bertrand</td>\n",
       "    </tr>\n",
       "  </tbody>\n",
       "</table>\n",
       "</div>"
      ],
      "text/plain": [
       "    country  points    price              province  \\\n",
       "0     Spain      88   $13.00             Catalonia   \n",
       "1     Italy      87   $14.00               Tuscany   \n",
       "2     Italy      84   $15.00         Central Italy   \n",
       "3  Portugal      93  $495.00               Colares   \n",
       "4    France      95  $350.00  Languedoc-Roussillon   \n",
       "\n",
       "                                               title          variety  \\\n",
       "0     L'Arboc NV 1919 Brut Selecció Sparkling (Cava)  Sparkling Blend   \n",
       "1         Guidi 1929 2015 Vernaccia di San Gimignano        Vernaccia   \n",
       "2  Poderi dal Nespoli 1929 2011 Prugneto (Sangiov...       Sangiovese   \n",
       "3  Adega Viuva Gomes 1934 Reserva Velho Red (Cola...          Ramisco   \n",
       "4  Gérard Bertrand 1945 Legend Vintage Red (Rives...        Red Blend   \n",
       "\n",
       "                    winery  \n",
       "0                  L'Arboc  \n",
       "1               Guidi 1929  \n",
       "2  Poderi dal Nespoli 1929  \n",
       "3        Adega Viuva Gomes  \n",
       "4          Gérard Bertrand  "
      ]
     },
     "execution_count": 136,
     "metadata": {},
     "output_type": "execute_result"
    }
   ],
   "source": [
    "\n",
    "new_df = df[['country', 'points', \"price\", 'province', 'title', 'variety', 'winery']].copy()\n",
    "new_df.head()"
   ]
  },
  {
   "cell_type": "markdown",
   "metadata": {},
   "source": [
    "### Check for blank cells"
   ]
  },
  {
   "cell_type": "code",
   "execution_count": 137,
   "metadata": {
    "scrolled": false
   },
   "outputs": [
    {
     "data": {
      "text/plain": [
       "country     24989\n",
       "points      24997\n",
       "price       23375\n",
       "province    24989\n",
       "title       24997\n",
       "variety     24997\n",
       "winery      24997\n",
       "dtype: int64"
      ]
     },
     "execution_count": 137,
     "metadata": {},
     "output_type": "execute_result"
    }
   ],
   "source": [
    "new_df.count()"
   ]
  },
  {
   "cell_type": "markdown",
   "metadata": {},
   "source": [
    "### Drop any rows with blank cells"
   ]
  },
  {
   "cell_type": "code",
   "execution_count": 138,
   "metadata": {
    "scrolled": false
   },
   "outputs": [
    {
     "data": {
      "text/plain": [
       "country     23367\n",
       "points      23367\n",
       "price       23367\n",
       "province    23367\n",
       "title       23367\n",
       "variety     23367\n",
       "winery      23367\n",
       "dtype: int64"
      ]
     },
     "execution_count": 138,
     "metadata": {},
     "output_type": "execute_result"
    }
   ],
   "source": [
    "new_df = new_df.dropna(how='any')\n",
    "new_df.count()"
   ]
  },
  {
   "cell_type": "markdown",
   "metadata": {},
   "source": [
    "### Show the data types to confirm they are what you need to continue"
   ]
  },
  {
   "cell_type": "code",
   "execution_count": 139,
   "metadata": {
    "scrolled": false
   },
   "outputs": [
    {
     "data": {
      "text/plain": [
       "country     object\n",
       "points       int64\n",
       "price       object\n",
       "province    object\n",
       "title       object\n",
       "variety     object\n",
       "winery      object\n",
       "dtype: object"
      ]
     },
     "execution_count": 139,
     "metadata": {},
     "output_type": "execute_result"
    }
   ],
   "source": [
    "new_df.dtypes"
   ]
  },
  {
   "cell_type": "markdown",
   "metadata": {},
   "source": [
    "### Change any data types that need to be changed"
   ]
  },
  {
   "cell_type": "code",
   "execution_count": 100,
   "metadata": {
    "scrolled": false
   },
   "outputs": [
    {
     "data": {
      "text/plain": [
       "Country      object\n",
       "Points        int64\n",
       "Price       float64\n",
       "Province     object\n",
       "Title        object\n",
       "Variety      object\n",
       "Winery       object\n",
       "dtype: object"
      ]
     },
     "execution_count": 100,
     "metadata": {},
     "output_type": "execute_result"
    }
   ],
   "source": [
    "#change the price to a float \n",
    "new_df['Price'] = [float(x.replace(\"$\",\"\").replace(\",\",\"\")) for x in new_df['Price']]\n",
    "new_df.dtypes"
   ]
  },
  {
   "cell_type": "markdown",
   "metadata": {},
   "source": [
    "### Pull the top 6 varieties"
   ]
  },
  {
   "cell_type": "code",
   "execution_count": 140,
   "metadata": {
    "scrolled": false
   },
   "outputs": [
    {
     "data": {
      "text/plain": [
       "Pinot Noir            2552\n",
       "Chardonnay            2167\n",
       "Cabernet Sauvignon    1834\n",
       "Sauvignon Blanc        986\n",
       "Merlot                 587\n",
       "Pinot Gris             274\n",
       "Name: variety, dtype: int64"
      ]
     },
     "execution_count": 140,
     "metadata": {},
     "output_type": "execute_result"
    }
   ],
   "source": [
    "winexl_df = new_df.loc[(new_df['variety'] == \"Cabernet Sauvignon\") | (new_df['variety'] == \"Chardonnay\") \n",
    "                       | (new_df['variety'] == \"Pinot Gris\") | (new_df['variety'] == \"Pinot Noir\")\n",
    "                       | (new_df['variety'] == \"Sauvignon Blanc\") | (new_df['variety'] == \"Merlot\")]\n",
    "count = winexl_df['variety'].value_counts()\n",
    "count"
   ]
  },
  {
   "cell_type": "markdown",
   "metadata": {},
   "source": [
    "### Print the new DataFrame"
   ]
  },
  {
   "cell_type": "code",
   "execution_count": 141,
   "metadata": {
    "scrolled": false
   },
   "outputs": [
    {
     "data": {
      "text/html": [
       "<div>\n",
       "<style scoped>\n",
       "    .dataframe tbody tr th:only-of-type {\n",
       "        vertical-align: middle;\n",
       "    }\n",
       "\n",
       "    .dataframe tbody tr th {\n",
       "        vertical-align: top;\n",
       "    }\n",
       "\n",
       "    .dataframe thead th {\n",
       "        text-align: right;\n",
       "    }\n",
       "</style>\n",
       "<table border=\"1\" class=\"dataframe\">\n",
       "  <thead>\n",
       "    <tr style=\"text-align: right;\">\n",
       "      <th></th>\n",
       "      <th>country</th>\n",
       "      <th>points</th>\n",
       "      <th>price</th>\n",
       "      <th>province</th>\n",
       "      <th>title</th>\n",
       "      <th>variety</th>\n",
       "      <th>winery</th>\n",
       "    </tr>\n",
       "  </thead>\n",
       "  <tbody>\n",
       "    <tr>\n",
       "      <th>11</th>\n",
       "      <td>US</td>\n",
       "      <td>89</td>\n",
       "      <td>$170.00</td>\n",
       "      <td>California</td>\n",
       "      <td>Sebastiani 1987 Cherryblock Cabernet Sauvignon...</td>\n",
       "      <td>Cabernet Sauvignon</td>\n",
       "      <td>Sebastiani</td>\n",
       "    </tr>\n",
       "    <tr>\n",
       "      <th>23</th>\n",
       "      <td>US</td>\n",
       "      <td>82</td>\n",
       "      <td>$13.00</td>\n",
       "      <td>California</td>\n",
       "      <td>Gan Eden 1994 Chardonnay (Sonoma County)</td>\n",
       "      <td>Chardonnay</td>\n",
       "      <td>Gan Eden</td>\n",
       "    </tr>\n",
       "    <tr>\n",
       "      <th>33</th>\n",
       "      <td>South Africa</td>\n",
       "      <td>87</td>\n",
       "      <td>$17.00</td>\n",
       "      <td>Stellenbosch</td>\n",
       "      <td>Middelvlei 1995 Cabernet Sauvignon (Stellenbosch)</td>\n",
       "      <td>Cabernet Sauvignon</td>\n",
       "      <td>Middelvlei</td>\n",
       "    </tr>\n",
       "    <tr>\n",
       "      <th>36</th>\n",
       "      <td>US</td>\n",
       "      <td>83</td>\n",
       "      <td>$22.00</td>\n",
       "      <td>California</td>\n",
       "      <td>Meridian 1996 Coastal Reserve Cabernet Sauvign...</td>\n",
       "      <td>Cabernet Sauvignon</td>\n",
       "      <td>Meridian</td>\n",
       "    </tr>\n",
       "    <tr>\n",
       "      <th>37</th>\n",
       "      <td>US</td>\n",
       "      <td>84</td>\n",
       "      <td>$29.00</td>\n",
       "      <td>Washington</td>\n",
       "      <td>Covey Run 1996 Whiskey Canyon Vyd Cabernet Sau...</td>\n",
       "      <td>Cabernet Sauvignon</td>\n",
       "      <td>Covey Run</td>\n",
       "    </tr>\n",
       "  </tbody>\n",
       "</table>\n",
       "</div>"
      ],
      "text/plain": [
       "         country  points    price      province  \\\n",
       "11            US      89  $170.00    California   \n",
       "23            US      82   $13.00    California   \n",
       "33  South Africa      87   $17.00  Stellenbosch   \n",
       "36            US      83   $22.00    California   \n",
       "37            US      84   $29.00    Washington   \n",
       "\n",
       "                                                title             variety  \\\n",
       "11  Sebastiani 1987 Cherryblock Cabernet Sauvignon...  Cabernet Sauvignon   \n",
       "23           Gan Eden 1994 Chardonnay (Sonoma County)          Chardonnay   \n",
       "33  Middelvlei 1995 Cabernet Sauvignon (Stellenbosch)  Cabernet Sauvignon   \n",
       "36  Meridian 1996 Coastal Reserve Cabernet Sauvign...  Cabernet Sauvignon   \n",
       "37  Covey Run 1996 Whiskey Canyon Vyd Cabernet Sau...  Cabernet Sauvignon   \n",
       "\n",
       "        winery  \n",
       "11  Sebastiani  \n",
       "23    Gan Eden  \n",
       "33  Middelvlei  \n",
       "36    Meridian  \n",
       "37   Covey Run  "
      ]
     },
     "execution_count": 141,
     "metadata": {},
     "output_type": "execute_result"
    }
   ],
   "source": [
    "winexl_df.head()"
   ]
  },
  {
   "cell_type": "markdown",
   "metadata": {},
   "source": [
    "### Reset the index count for the new DataFrame"
   ]
  },
  {
   "cell_type": "code",
   "execution_count": 142,
   "metadata": {
    "scrolled": false
   },
   "outputs": [
    {
     "data": {
      "text/html": [
       "<div>\n",
       "<style scoped>\n",
       "    .dataframe tbody tr th:only-of-type {\n",
       "        vertical-align: middle;\n",
       "    }\n",
       "\n",
       "    .dataframe tbody tr th {\n",
       "        vertical-align: top;\n",
       "    }\n",
       "\n",
       "    .dataframe thead th {\n",
       "        text-align: right;\n",
       "    }\n",
       "</style>\n",
       "<table border=\"1\" class=\"dataframe\">\n",
       "  <thead>\n",
       "    <tr style=\"text-align: right;\">\n",
       "      <th></th>\n",
       "      <th>country</th>\n",
       "      <th>points</th>\n",
       "      <th>price</th>\n",
       "      <th>province</th>\n",
       "      <th>title</th>\n",
       "      <th>variety</th>\n",
       "      <th>winery</th>\n",
       "    </tr>\n",
       "  </thead>\n",
       "  <tbody>\n",
       "    <tr>\n",
       "      <th>0</th>\n",
       "      <td>US</td>\n",
       "      <td>89</td>\n",
       "      <td>$170.00</td>\n",
       "      <td>California</td>\n",
       "      <td>Sebastiani 1987 Cherryblock Cabernet Sauvignon...</td>\n",
       "      <td>Cabernet Sauvignon</td>\n",
       "      <td>Sebastiani</td>\n",
       "    </tr>\n",
       "    <tr>\n",
       "      <th>1</th>\n",
       "      <td>US</td>\n",
       "      <td>82</td>\n",
       "      <td>$13.00</td>\n",
       "      <td>California</td>\n",
       "      <td>Gan Eden 1994 Chardonnay (Sonoma County)</td>\n",
       "      <td>Chardonnay</td>\n",
       "      <td>Gan Eden</td>\n",
       "    </tr>\n",
       "    <tr>\n",
       "      <th>2</th>\n",
       "      <td>South Africa</td>\n",
       "      <td>87</td>\n",
       "      <td>$17.00</td>\n",
       "      <td>Stellenbosch</td>\n",
       "      <td>Middelvlei 1995 Cabernet Sauvignon (Stellenbosch)</td>\n",
       "      <td>Cabernet Sauvignon</td>\n",
       "      <td>Middelvlei</td>\n",
       "    </tr>\n",
       "    <tr>\n",
       "      <th>3</th>\n",
       "      <td>US</td>\n",
       "      <td>83</td>\n",
       "      <td>$22.00</td>\n",
       "      <td>California</td>\n",
       "      <td>Meridian 1996 Coastal Reserve Cabernet Sauvign...</td>\n",
       "      <td>Cabernet Sauvignon</td>\n",
       "      <td>Meridian</td>\n",
       "    </tr>\n",
       "    <tr>\n",
       "      <th>4</th>\n",
       "      <td>US</td>\n",
       "      <td>84</td>\n",
       "      <td>$29.00</td>\n",
       "      <td>Washington</td>\n",
       "      <td>Covey Run 1996 Whiskey Canyon Vyd Cabernet Sau...</td>\n",
       "      <td>Cabernet Sauvignon</td>\n",
       "      <td>Covey Run</td>\n",
       "    </tr>\n",
       "  </tbody>\n",
       "</table>\n",
       "</div>"
      ],
      "text/plain": [
       "        country  points    price      province  \\\n",
       "0            US      89  $170.00    California   \n",
       "1            US      82   $13.00    California   \n",
       "2  South Africa      87   $17.00  Stellenbosch   \n",
       "3            US      83   $22.00    California   \n",
       "4            US      84   $29.00    Washington   \n",
       "\n",
       "                                               title             variety  \\\n",
       "0  Sebastiani 1987 Cherryblock Cabernet Sauvignon...  Cabernet Sauvignon   \n",
       "1           Gan Eden 1994 Chardonnay (Sonoma County)          Chardonnay   \n",
       "2  Middelvlei 1995 Cabernet Sauvignon (Stellenbosch)  Cabernet Sauvignon   \n",
       "3  Meridian 1996 Coastal Reserve Cabernet Sauvign...  Cabernet Sauvignon   \n",
       "4  Covey Run 1996 Whiskey Canyon Vyd Cabernet Sau...  Cabernet Sauvignon   \n",
       "\n",
       "       winery  \n",
       "0  Sebastiani  \n",
       "1    Gan Eden  \n",
       "2  Middelvlei  \n",
       "3    Meridian  \n",
       "4   Covey Run  "
      ]
     },
     "execution_count": 142,
     "metadata": {},
     "output_type": "execute_result"
    }
   ],
   "source": [
    "winexl_df = winexl_df.reset_index(drop=True)\n",
    "winexl_df.head()"
   ]
  },
  {
   "cell_type": "markdown",
   "metadata": {},
   "source": [
    "### Load the second file and set up DataFrame"
   ]
  },
  {
   "cell_type": "code",
   "execution_count": 104,
   "metadata": {
    "scrolled": false
   },
   "outputs": [
    {
     "data": {
      "text/html": [
       "<div>\n",
       "<style scoped>\n",
       "    .dataframe tbody tr th:only-of-type {\n",
       "        vertical-align: middle;\n",
       "    }\n",
       "\n",
       "    .dataframe tbody tr th {\n",
       "        vertical-align: top;\n",
       "    }\n",
       "\n",
       "    .dataframe thead th {\n",
       "        text-align: right;\n",
       "    }\n",
       "</style>\n",
       "<table border=\"1\" class=\"dataframe\">\n",
       "  <thead>\n",
       "    <tr style=\"text-align: right;\">\n",
       "      <th></th>\n",
       "      <th>country</th>\n",
       "      <th>description</th>\n",
       "      <th>designation</th>\n",
       "      <th>points</th>\n",
       "      <th>price</th>\n",
       "      <th>province</th>\n",
       "      <th>region_1</th>\n",
       "      <th>region_2</th>\n",
       "      <th>variety</th>\n",
       "      <th>winery</th>\n",
       "    </tr>\n",
       "  </thead>\n",
       "  <tbody>\n",
       "    <tr>\n",
       "      <th>0</th>\n",
       "      <td>France</td>\n",
       "      <td>A big, powerful wine that sums up the richness...</td>\n",
       "      <td>NaN</td>\n",
       "      <td>99</td>\n",
       "      <td>2300.0</td>\n",
       "      <td>Bordeaux</td>\n",
       "      <td>Pauillac</td>\n",
       "      <td>NaN</td>\n",
       "      <td>Bordeaux-style Red Blend</td>\n",
       "      <td>Château Latour</td>\n",
       "    </tr>\n",
       "    <tr>\n",
       "      <th>1</th>\n",
       "      <td>US</td>\n",
       "      <td>The nose on this single-vineyard wine from a s...</td>\n",
       "      <td>Roger Rose Vineyard</td>\n",
       "      <td>91</td>\n",
       "      <td>2013.0</td>\n",
       "      <td>California</td>\n",
       "      <td>Arroyo Seco</td>\n",
       "      <td>Central Coast</td>\n",
       "      <td>Chardonnay</td>\n",
       "      <td>Blair</td>\n",
       "    </tr>\n",
       "    <tr>\n",
       "      <th>2</th>\n",
       "      <td>France</td>\n",
       "      <td>A massive wine for Margaux, packed with tannin...</td>\n",
       "      <td>NaN</td>\n",
       "      <td>98</td>\n",
       "      <td>1900.0</td>\n",
       "      <td>Bordeaux</td>\n",
       "      <td>Margaux</td>\n",
       "      <td>NaN</td>\n",
       "      <td>Bordeaux-style Red Blend</td>\n",
       "      <td>Château Margaux</td>\n",
       "    </tr>\n",
       "    <tr>\n",
       "      <th>3</th>\n",
       "      <td>France</td>\n",
       "      <td>A wine that has created its own universe. It h...</td>\n",
       "      <td>Clos du Mesnil</td>\n",
       "      <td>100</td>\n",
       "      <td>1400.0</td>\n",
       "      <td>Champagne</td>\n",
       "      <td>Champagne</td>\n",
       "      <td>NaN</td>\n",
       "      <td>Chardonnay</td>\n",
       "      <td>Krug</td>\n",
       "    </tr>\n",
       "    <tr>\n",
       "      <th>4</th>\n",
       "      <td>France</td>\n",
       "      <td>A wine that has created its own universe. It h...</td>\n",
       "      <td>Clos du Mesnil</td>\n",
       "      <td>100</td>\n",
       "      <td>1400.0</td>\n",
       "      <td>Champagne</td>\n",
       "      <td>Champagne</td>\n",
       "      <td>NaN</td>\n",
       "      <td>Chardonnay</td>\n",
       "      <td>Krug</td>\n",
       "    </tr>\n",
       "  </tbody>\n",
       "</table>\n",
       "</div>"
      ],
      "text/plain": [
       "  country                                        description  \\\n",
       "0  France  A big, powerful wine that sums up the richness...   \n",
       "1      US  The nose on this single-vineyard wine from a s...   \n",
       "2  France  A massive wine for Margaux, packed with tannin...   \n",
       "3  France  A wine that has created its own universe. It h...   \n",
       "4  France  A wine that has created its own universe. It h...   \n",
       "\n",
       "           designation  points   price    province     region_1  \\\n",
       "0                  NaN      99  2300.0    Bordeaux     Pauillac   \n",
       "1  Roger Rose Vineyard      91  2013.0  California  Arroyo Seco   \n",
       "2                  NaN      98  1900.0    Bordeaux      Margaux   \n",
       "3       Clos du Mesnil     100  1400.0   Champagne    Champagne   \n",
       "4       Clos du Mesnil     100  1400.0   Champagne    Champagne   \n",
       "\n",
       "        region_2                   variety           winery  \n",
       "0            NaN  Bordeaux-style Red Blend   Château Latour  \n",
       "1  Central Coast                Chardonnay            Blair  \n",
       "2            NaN  Bordeaux-style Red Blend  Château Margaux  \n",
       "3            NaN                Chardonnay             Krug  \n",
       "4            NaN                Chardonnay             Krug  "
      ]
     },
     "execution_count": 104,
     "metadata": {},
     "output_type": "execute_result"
    }
   ],
   "source": [
    "csv_file = \"Resources/winemag-data_first150k_for_project.csv\"\n",
    "winemag_data_df = pd.read_csv(csv_file)\n",
    "winemag_data_df.head()"
   ]
  },
  {
   "cell_type": "markdown",
   "metadata": {},
   "source": [
    "### Make new DataFrame with only the needed columns"
   ]
  },
  {
   "cell_type": "code",
   "execution_count": 105,
   "metadata": {
    "scrolled": false
   },
   "outputs": [
    {
     "data": {
      "text/html": [
       "<div>\n",
       "<style scoped>\n",
       "    .dataframe tbody tr th:only-of-type {\n",
       "        vertical-align: middle;\n",
       "    }\n",
       "\n",
       "    .dataframe tbody tr th {\n",
       "        vertical-align: top;\n",
       "    }\n",
       "\n",
       "    .dataframe thead th {\n",
       "        text-align: right;\n",
       "    }\n",
       "</style>\n",
       "<table border=\"1\" class=\"dataframe\">\n",
       "  <thead>\n",
       "    <tr style=\"text-align: right;\">\n",
       "      <th></th>\n",
       "      <th>country</th>\n",
       "      <th>description</th>\n",
       "      <th>points</th>\n",
       "      <th>price</th>\n",
       "      <th>province</th>\n",
       "      <th>variety</th>\n",
       "      <th>winery</th>\n",
       "    </tr>\n",
       "  </thead>\n",
       "  <tbody>\n",
       "    <tr>\n",
       "      <th>0</th>\n",
       "      <td>France</td>\n",
       "      <td>A big, powerful wine that sums up the richness...</td>\n",
       "      <td>99</td>\n",
       "      <td>2300.0</td>\n",
       "      <td>Bordeaux</td>\n",
       "      <td>Bordeaux-style Red Blend</td>\n",
       "      <td>Château Latour</td>\n",
       "    </tr>\n",
       "    <tr>\n",
       "      <th>1</th>\n",
       "      <td>US</td>\n",
       "      <td>The nose on this single-vineyard wine from a s...</td>\n",
       "      <td>91</td>\n",
       "      <td>2013.0</td>\n",
       "      <td>California</td>\n",
       "      <td>Chardonnay</td>\n",
       "      <td>Blair</td>\n",
       "    </tr>\n",
       "    <tr>\n",
       "      <th>2</th>\n",
       "      <td>France</td>\n",
       "      <td>A massive wine for Margaux, packed with tannin...</td>\n",
       "      <td>98</td>\n",
       "      <td>1900.0</td>\n",
       "      <td>Bordeaux</td>\n",
       "      <td>Bordeaux-style Red Blend</td>\n",
       "      <td>Château Margaux</td>\n",
       "    </tr>\n",
       "    <tr>\n",
       "      <th>3</th>\n",
       "      <td>France</td>\n",
       "      <td>A wine that has created its own universe. It h...</td>\n",
       "      <td>100</td>\n",
       "      <td>1400.0</td>\n",
       "      <td>Champagne</td>\n",
       "      <td>Chardonnay</td>\n",
       "      <td>Krug</td>\n",
       "    </tr>\n",
       "    <tr>\n",
       "      <th>4</th>\n",
       "      <td>France</td>\n",
       "      <td>A wine that has created its own universe. It h...</td>\n",
       "      <td>100</td>\n",
       "      <td>1400.0</td>\n",
       "      <td>Champagne</td>\n",
       "      <td>Chardonnay</td>\n",
       "      <td>Krug</td>\n",
       "    </tr>\n",
       "  </tbody>\n",
       "</table>\n",
       "</div>"
      ],
      "text/plain": [
       "  country                                        description  points   price  \\\n",
       "0  France  A big, powerful wine that sums up the richness...      99  2300.0   \n",
       "1      US  The nose on this single-vineyard wine from a s...      91  2013.0   \n",
       "2  France  A massive wine for Margaux, packed with tannin...      98  1900.0   \n",
       "3  France  A wine that has created its own universe. It h...     100  1400.0   \n",
       "4  France  A wine that has created its own universe. It h...     100  1400.0   \n",
       "\n",
       "     province                   variety           winery  \n",
       "0    Bordeaux  Bordeaux-style Red Blend   Château Latour  \n",
       "1  California                Chardonnay            Blair  \n",
       "2    Bordeaux  Bordeaux-style Red Blend  Château Margaux  \n",
       "3   Champagne                Chardonnay             Krug  \n",
       "4   Champagne                Chardonnay             Krug  "
      ]
     },
     "execution_count": 105,
     "metadata": {},
     "output_type": "execute_result"
    }
   ],
   "source": [
    "new_winemag_data_df = winemag_data_df[['country', 'description', 'points', 'price', 'province', 'variety', 'winery']].copy()\n",
    "new_winemag_data_df.head()"
   ]
  },
  {
   "cell_type": "markdown",
   "metadata": {},
   "source": [
    "### Check for blank cells"
   ]
  },
  {
   "cell_type": "code",
   "execution_count": 106,
   "metadata": {
    "scrolled": false
   },
   "outputs": [
    {
     "data": {
      "text/plain": [
       "country        150925\n",
       "description    150930\n",
       "points         150930\n",
       "price          137235\n",
       "province       150925\n",
       "variety        150930\n",
       "winery         150930\n",
       "dtype: int64"
      ]
     },
     "execution_count": 106,
     "metadata": {},
     "output_type": "execute_result"
    }
   ],
   "source": [
    "# Check for missing information\n",
    "new_winemag_data_df.count()"
   ]
  },
  {
   "cell_type": "markdown",
   "metadata": {},
   "source": [
    "### Drop any rows with blank cells"
   ]
  },
  {
   "cell_type": "code",
   "execution_count": 107,
   "metadata": {
    "scrolled": false
   },
   "outputs": [],
   "source": [
    "# Drop all rows with missing information\n",
    "new_winemag_data_df = new_winemag_data_df.dropna(how='any')"
   ]
  },
  {
   "cell_type": "markdown",
   "metadata": {},
   "source": [
    "### Confirm the DataFrame is correct with the drop changes"
   ]
  },
  {
   "cell_type": "code",
   "execution_count": 108,
   "metadata": {
    "scrolled": false
   },
   "outputs": [
    {
     "data": {
      "text/plain": [
       "country        137230\n",
       "description    137230\n",
       "points         137230\n",
       "price          137230\n",
       "province       137230\n",
       "variety        137230\n",
       "winery         137230\n",
       "dtype: int64"
      ]
     },
     "execution_count": 108,
     "metadata": {},
     "output_type": "execute_result"
    }
   ],
   "source": [
    "# Check that all columns have the same amount of rows now. \n",
    "new_winemag_data_df.count()"
   ]
  },
  {
   "cell_type": "markdown",
   "metadata": {},
   "source": [
    "### Check the data types to make sure that they are the correct type that is needed"
   ]
  },
  {
   "cell_type": "code",
   "execution_count": 109,
   "metadata": {
    "scrolled": false
   },
   "outputs": [
    {
     "data": {
      "text/plain": [
       "country         object\n",
       "description     object\n",
       "points           int64\n",
       "price          float64\n",
       "province        object\n",
       "variety         object\n",
       "winery          object\n",
       "dtype: object"
      ]
     },
     "execution_count": 109,
     "metadata": {},
     "output_type": "execute_result"
    }
   ],
   "source": [
    "# Check that the data types fit the data. \n",
    "new_winemag_data_df.dtypes"
   ]
  },
  {
   "cell_type": "markdown",
   "metadata": {},
   "source": [
    "### Check for the counts in the variety to pull the top 6 varieties"
   ]
  },
  {
   "cell_type": "code",
   "execution_count": 110,
   "metadata": {
    "scrolled": false
   },
   "outputs": [
    {
     "data": {
      "text/plain": [
       "Chardonnay               13775\n",
       "Pinot Noir               13625\n",
       "Cabernet Sauvignon       12671\n",
       "Red Blend                 9377\n",
       "Sauvignon Blanc           6054\n",
       "                         ...  \n",
       "Baga-Touriga Nacional        1\n",
       "Chardonel                    1\n",
       "Sarba                        1\n",
       "Erbaluce                     1\n",
       "Rufete                       1\n",
       "Name: variety, Length: 619, dtype: int64"
      ]
     },
     "execution_count": 110,
     "metadata": {},
     "output_type": "execute_result"
    }
   ],
   "source": [
    "# look at the values in the 'variety' column.\n",
    "new_winemag_data_df['variety'].value_counts()"
   ]
  },
  {
   "cell_type": "markdown",
   "metadata": {},
   "source": [
    "### Change the varieties' names to match the first file so that they can be merged"
   ]
  },
  {
   "cell_type": "code",
   "execution_count": 111,
   "metadata": {
    "scrolled": false
   },
   "outputs": [],
   "source": [
    "new_winemag_data_df['variety'] = new_winemag_data_df['variety'].replace(\n",
    "    {'Pinot Grigio': 'Pinot Gris'})"
   ]
  },
  {
   "cell_type": "markdown",
   "metadata": {},
   "source": [
    "### Pull the top 6 varieties that were selected"
   ]
  },
  {
   "cell_type": "code",
   "execution_count": 112,
   "metadata": {
    "scrolled": false
   },
   "outputs": [
    {
     "data": {
      "text/plain": [
       "Chardonnay            13775\n",
       "Pinot Noir            13625\n",
       "Cabernet Sauvignon    12671\n",
       "Sauvignon Blanc        6054\n",
       "Merlot                 4987\n",
       "Pinot Gris             2545\n",
       "Name: variety, dtype: int64"
      ]
     },
     "execution_count": 112,
     "metadata": {},
     "output_type": "execute_result"
    }
   ],
   "source": [
    "new_winemag_df = new_winemag_data_df.loc[(new_winemag_data_df['variety'] == \"Cabernet Sauvignon\") | (new_winemag_data_df['variety'] == \"Chardonnay\") \n",
    "                       | (new_winemag_data_df['variety'] == \"Pinot Gris\") | (new_winemag_data_df['variety'] == \"Pinot Noir\")\n",
    "                       | (new_winemag_data_df['variety'] == \"Sauvignon Blanc\") | (new_winemag_data_df['variety'] == \"Merlot\")]\n",
    "count = new_winemag_df['variety'].value_counts()\n",
    "count"
   ]
  },
  {
   "cell_type": "markdown",
   "metadata": {},
   "source": [
    "### Print the new DataFrame"
   ]
  },
  {
   "cell_type": "code",
   "execution_count": 113,
   "metadata": {
    "scrolled": false
   },
   "outputs": [
    {
     "data": {
      "text/html": [
       "<div>\n",
       "<style scoped>\n",
       "    .dataframe tbody tr th:only-of-type {\n",
       "        vertical-align: middle;\n",
       "    }\n",
       "\n",
       "    .dataframe tbody tr th {\n",
       "        vertical-align: top;\n",
       "    }\n",
       "\n",
       "    .dataframe thead th {\n",
       "        text-align: right;\n",
       "    }\n",
       "</style>\n",
       "<table border=\"1\" class=\"dataframe\">\n",
       "  <thead>\n",
       "    <tr style=\"text-align: right;\">\n",
       "      <th></th>\n",
       "      <th>country</th>\n",
       "      <th>description</th>\n",
       "      <th>points</th>\n",
       "      <th>price</th>\n",
       "      <th>province</th>\n",
       "      <th>variety</th>\n",
       "      <th>winery</th>\n",
       "    </tr>\n",
       "  </thead>\n",
       "  <tbody>\n",
       "    <tr>\n",
       "      <th>1</th>\n",
       "      <td>US</td>\n",
       "      <td>The nose on this single-vineyard wine from a s...</td>\n",
       "      <td>91</td>\n",
       "      <td>2013.0</td>\n",
       "      <td>California</td>\n",
       "      <td>Chardonnay</td>\n",
       "      <td>Blair</td>\n",
       "    </tr>\n",
       "    <tr>\n",
       "      <th>3</th>\n",
       "      <td>France</td>\n",
       "      <td>A wine that has created its own universe. It h...</td>\n",
       "      <td>100</td>\n",
       "      <td>1400.0</td>\n",
       "      <td>Champagne</td>\n",
       "      <td>Chardonnay</td>\n",
       "      <td>Krug</td>\n",
       "    </tr>\n",
       "    <tr>\n",
       "      <th>4</th>\n",
       "      <td>France</td>\n",
       "      <td>A wine that has created its own universe. It h...</td>\n",
       "      <td>100</td>\n",
       "      <td>1400.0</td>\n",
       "      <td>Champagne</td>\n",
       "      <td>Chardonnay</td>\n",
       "      <td>Krug</td>\n",
       "    </tr>\n",
       "    <tr>\n",
       "      <th>5</th>\n",
       "      <td>France</td>\n",
       "      <td>A wine that has created its own universe. It h...</td>\n",
       "      <td>100</td>\n",
       "      <td>1400.0</td>\n",
       "      <td>Champagne</td>\n",
       "      <td>Chardonnay</td>\n",
       "      <td>Krug</td>\n",
       "    </tr>\n",
       "    <tr>\n",
       "      <th>26</th>\n",
       "      <td>France</td>\n",
       "      <td>From arguably the finest white wine vineyard i...</td>\n",
       "      <td>98</td>\n",
       "      <td>757.0</td>\n",
       "      <td>Burgundy</td>\n",
       "      <td>Chardonnay</td>\n",
       "      <td>Bouchard Père &amp; Fils</td>\n",
       "    </tr>\n",
       "  </tbody>\n",
       "</table>\n",
       "</div>"
      ],
      "text/plain": [
       "   country                                        description  points   price  \\\n",
       "1       US  The nose on this single-vineyard wine from a s...      91  2013.0   \n",
       "3   France  A wine that has created its own universe. It h...     100  1400.0   \n",
       "4   France  A wine that has created its own universe. It h...     100  1400.0   \n",
       "5   France  A wine that has created its own universe. It h...     100  1400.0   \n",
       "26  France  From arguably the finest white wine vineyard i...      98   757.0   \n",
       "\n",
       "      province     variety                winery  \n",
       "1   California  Chardonnay                 Blair  \n",
       "3    Champagne  Chardonnay                  Krug  \n",
       "4    Champagne  Chardonnay                  Krug  \n",
       "5    Champagne  Chardonnay                  Krug  \n",
       "26    Burgundy  Chardonnay  Bouchard Père & Fils  "
      ]
     },
     "execution_count": 113,
     "metadata": {},
     "output_type": "execute_result"
    }
   ],
   "source": [
    "new_winemag_df.head()"
   ]
  },
  {
   "cell_type": "markdown",
   "metadata": {},
   "source": [
    "### Reset the index count"
   ]
  },
  {
   "cell_type": "code",
   "execution_count": 114,
   "metadata": {
    "scrolled": false
   },
   "outputs": [
    {
     "data": {
      "text/html": [
       "<div>\n",
       "<style scoped>\n",
       "    .dataframe tbody tr th:only-of-type {\n",
       "        vertical-align: middle;\n",
       "    }\n",
       "\n",
       "    .dataframe tbody tr th {\n",
       "        vertical-align: top;\n",
       "    }\n",
       "\n",
       "    .dataframe thead th {\n",
       "        text-align: right;\n",
       "    }\n",
       "</style>\n",
       "<table border=\"1\" class=\"dataframe\">\n",
       "  <thead>\n",
       "    <tr style=\"text-align: right;\">\n",
       "      <th></th>\n",
       "      <th>country</th>\n",
       "      <th>description</th>\n",
       "      <th>points</th>\n",
       "      <th>price</th>\n",
       "      <th>province</th>\n",
       "      <th>variety</th>\n",
       "      <th>winery</th>\n",
       "    </tr>\n",
       "  </thead>\n",
       "  <tbody>\n",
       "    <tr>\n",
       "      <th>0</th>\n",
       "      <td>US</td>\n",
       "      <td>The nose on this single-vineyard wine from a s...</td>\n",
       "      <td>91</td>\n",
       "      <td>2013.0</td>\n",
       "      <td>California</td>\n",
       "      <td>Chardonnay</td>\n",
       "      <td>Blair</td>\n",
       "    </tr>\n",
       "    <tr>\n",
       "      <th>1</th>\n",
       "      <td>France</td>\n",
       "      <td>A wine that has created its own universe. It h...</td>\n",
       "      <td>100</td>\n",
       "      <td>1400.0</td>\n",
       "      <td>Champagne</td>\n",
       "      <td>Chardonnay</td>\n",
       "      <td>Krug</td>\n",
       "    </tr>\n",
       "    <tr>\n",
       "      <th>2</th>\n",
       "      <td>France</td>\n",
       "      <td>A wine that has created its own universe. It h...</td>\n",
       "      <td>100</td>\n",
       "      <td>1400.0</td>\n",
       "      <td>Champagne</td>\n",
       "      <td>Chardonnay</td>\n",
       "      <td>Krug</td>\n",
       "    </tr>\n",
       "    <tr>\n",
       "      <th>3</th>\n",
       "      <td>France</td>\n",
       "      <td>A wine that has created its own universe. It h...</td>\n",
       "      <td>100</td>\n",
       "      <td>1400.0</td>\n",
       "      <td>Champagne</td>\n",
       "      <td>Chardonnay</td>\n",
       "      <td>Krug</td>\n",
       "    </tr>\n",
       "    <tr>\n",
       "      <th>4</th>\n",
       "      <td>France</td>\n",
       "      <td>From arguably the finest white wine vineyard i...</td>\n",
       "      <td>98</td>\n",
       "      <td>757.0</td>\n",
       "      <td>Burgundy</td>\n",
       "      <td>Chardonnay</td>\n",
       "      <td>Bouchard Père &amp; Fils</td>\n",
       "    </tr>\n",
       "  </tbody>\n",
       "</table>\n",
       "</div>"
      ],
      "text/plain": [
       "  country                                        description  points   price  \\\n",
       "0      US  The nose on this single-vineyard wine from a s...      91  2013.0   \n",
       "1  France  A wine that has created its own universe. It h...     100  1400.0   \n",
       "2  France  A wine that has created its own universe. It h...     100  1400.0   \n",
       "3  France  A wine that has created its own universe. It h...     100  1400.0   \n",
       "4  France  From arguably the finest white wine vineyard i...      98   757.0   \n",
       "\n",
       "     province     variety                winery  \n",
       "0  California  Chardonnay                 Blair  \n",
       "1   Champagne  Chardonnay                  Krug  \n",
       "2   Champagne  Chardonnay                  Krug  \n",
       "3   Champagne  Chardonnay                  Krug  \n",
       "4    Burgundy  Chardonnay  Bouchard Père & Fils  "
      ]
     },
     "execution_count": 114,
     "metadata": {},
     "output_type": "execute_result"
    }
   ],
   "source": [
    "new_winemag_df = new_winemag_df.reset_index(drop=True)\n",
    "new_winemag_df.head()"
   ]
  },
  {
   "cell_type": "markdown",
   "metadata": {},
   "source": [
    "### Connect to local database"
   ]
  },
  {
   "cell_type": "code",
   "execution_count": 4,
   "metadata": {
    "scrolled": false
   },
   "outputs": [],
   "source": [
    "rds_connection_string = \"postgres:Password@localhost:5432/Wines\"\n",
    "engine = create_engine(f'postgresql://{rds_connection_string}')"
   ]
  },
  {
   "cell_type": "markdown",
   "metadata": {},
   "source": [
    "### Check for tables"
   ]
  },
  {
   "cell_type": "code",
   "execution_count": 5,
   "metadata": {
    "scrolled": false
   },
   "outputs": [
    {
     "data": {
      "text/plain": [
       "['winexl', 'newwinemag']"
      ]
     },
     "execution_count": 5,
     "metadata": {},
     "output_type": "execute_result"
    }
   ],
   "source": [
    " engine.table_names()"
   ]
  },
  {
   "cell_type": "code",
   "execution_count": 146,
   "metadata": {
    "scrolled": false
   },
   "outputs": [
    {
     "data": {
      "text/plain": [
       "['winexl', 'newwinemag']"
      ]
     },
     "execution_count": 146,
     "metadata": {},
     "output_type": "execute_result"
    }
   ],
   "source": [
    " ['winexl', 'newwinemag']"
   ]
  },
  {
   "cell_type": "markdown",
   "metadata": {},
   "source": [
    "### Use pandas to load csv converted DataFrame into database"
   ]
  },
  {
   "cell_type": "code",
   "execution_count": 147,
   "metadata": {
    "scrolled": true
   },
   "outputs": [],
   "source": [
    " winexl_df.to_sql(name='winexl', con=engine, if_exists='append', index=False)"
   ]
  },
  {
   "cell_type": "code",
   "execution_count": 148,
   "metadata": {
    "scrolled": false
   },
   "outputs": [],
   "source": [
    "new_winemag_df.to_sql(name='newwinemag', con=engine, if_exists='append', index=False)"
   ]
  },
  {
   "cell_type": "markdown",
   "metadata": {},
   "source": [
    "### Confirm data has been added by querying the wines table"
   ]
  },
  {
   "cell_type": "code",
   "execution_count": 149,
   "metadata": {
    "scrolled": false
   },
   "outputs": [
    {
     "data": {
      "text/html": [
       "<div>\n",
       "<style scoped>\n",
       "    .dataframe tbody tr th:only-of-type {\n",
       "        vertical-align: middle;\n",
       "    }\n",
       "\n",
       "    .dataframe tbody tr th {\n",
       "        vertical-align: top;\n",
       "    }\n",
       "\n",
       "    .dataframe thead th {\n",
       "        text-align: right;\n",
       "    }\n",
       "</style>\n",
       "<table border=\"1\" class=\"dataframe\">\n",
       "  <thead>\n",
       "    <tr style=\"text-align: right;\">\n",
       "      <th></th>\n",
       "      <th>country</th>\n",
       "      <th>points</th>\n",
       "      <th>price</th>\n",
       "      <th>province</th>\n",
       "      <th>title</th>\n",
       "      <th>variety</th>\n",
       "      <th>winery</th>\n",
       "    </tr>\n",
       "  </thead>\n",
       "  <tbody>\n",
       "    <tr>\n",
       "      <th>0</th>\n",
       "      <td>US</td>\n",
       "      <td>89</td>\n",
       "      <td>$170.00</td>\n",
       "      <td>California</td>\n",
       "      <td>Sebastiani 1987 Cherryblock Cabernet Sauvignon...</td>\n",
       "      <td>Cabernet Sauvignon</td>\n",
       "      <td>Sebastiani</td>\n",
       "    </tr>\n",
       "    <tr>\n",
       "      <th>1</th>\n",
       "      <td>US</td>\n",
       "      <td>82</td>\n",
       "      <td>$13.00</td>\n",
       "      <td>California</td>\n",
       "      <td>Gan Eden 1994 Chardonnay (Sonoma County)</td>\n",
       "      <td>Chardonnay</td>\n",
       "      <td>Gan Eden</td>\n",
       "    </tr>\n",
       "    <tr>\n",
       "      <th>2</th>\n",
       "      <td>South Africa</td>\n",
       "      <td>87</td>\n",
       "      <td>$17.00</td>\n",
       "      <td>Stellenbosch</td>\n",
       "      <td>Middelvlei 1995 Cabernet Sauvignon (Stellenbosch)</td>\n",
       "      <td>Cabernet Sauvignon</td>\n",
       "      <td>Middelvlei</td>\n",
       "    </tr>\n",
       "    <tr>\n",
       "      <th>3</th>\n",
       "      <td>US</td>\n",
       "      <td>83</td>\n",
       "      <td>$22.00</td>\n",
       "      <td>California</td>\n",
       "      <td>Meridian 1996 Coastal Reserve Cabernet Sauvign...</td>\n",
       "      <td>Cabernet Sauvignon</td>\n",
       "      <td>Meridian</td>\n",
       "    </tr>\n",
       "    <tr>\n",
       "      <th>4</th>\n",
       "      <td>US</td>\n",
       "      <td>84</td>\n",
       "      <td>$29.00</td>\n",
       "      <td>Washington</td>\n",
       "      <td>Covey Run 1996 Whiskey Canyon Vyd Cabernet Sau...</td>\n",
       "      <td>Cabernet Sauvignon</td>\n",
       "      <td>Covey Run</td>\n",
       "    </tr>\n",
       "  </tbody>\n",
       "</table>\n",
       "</div>"
      ],
      "text/plain": [
       "        country  points    price      province  \\\n",
       "0            US      89  $170.00    California   \n",
       "1            US      82   $13.00    California   \n",
       "2  South Africa      87   $17.00  Stellenbosch   \n",
       "3            US      83   $22.00    California   \n",
       "4            US      84   $29.00    Washington   \n",
       "\n",
       "                                               title             variety  \\\n",
       "0  Sebastiani 1987 Cherryblock Cabernet Sauvignon...  Cabernet Sauvignon   \n",
       "1           Gan Eden 1994 Chardonnay (Sonoma County)          Chardonnay   \n",
       "2  Middelvlei 1995 Cabernet Sauvignon (Stellenbosch)  Cabernet Sauvignon   \n",
       "3  Meridian 1996 Coastal Reserve Cabernet Sauvign...  Cabernet Sauvignon   \n",
       "4  Covey Run 1996 Whiskey Canyon Vyd Cabernet Sau...  Cabernet Sauvignon   \n",
       "\n",
       "       winery  \n",
       "0  Sebastiani  \n",
       "1    Gan Eden  \n",
       "2  Middelvlei  \n",
       "3    Meridian  \n",
       "4   Covey Run  "
      ]
     },
     "execution_count": 149,
     "metadata": {},
     "output_type": "execute_result"
    }
   ],
   "source": [
    "pd.read_sql_query('select * from winexl', con=engine).head()"
   ]
  },
  {
   "cell_type": "code",
   "execution_count": 150,
   "metadata": {
    "scrolled": false
   },
   "outputs": [
    {
     "data": {
      "text/html": [
       "<div>\n",
       "<style scoped>\n",
       "    .dataframe tbody tr th:only-of-type {\n",
       "        vertical-align: middle;\n",
       "    }\n",
       "\n",
       "    .dataframe tbody tr th {\n",
       "        vertical-align: top;\n",
       "    }\n",
       "\n",
       "    .dataframe thead th {\n",
       "        text-align: right;\n",
       "    }\n",
       "</style>\n",
       "<table border=\"1\" class=\"dataframe\">\n",
       "  <thead>\n",
       "    <tr style=\"text-align: right;\">\n",
       "      <th></th>\n",
       "      <th>country</th>\n",
       "      <th>description</th>\n",
       "      <th>points</th>\n",
       "      <th>price</th>\n",
       "      <th>province</th>\n",
       "      <th>variety</th>\n",
       "      <th>winery</th>\n",
       "    </tr>\n",
       "  </thead>\n",
       "  <tbody>\n",
       "    <tr>\n",
       "      <th>0</th>\n",
       "      <td>US</td>\n",
       "      <td>The nose on this single-vineyard wine from a s...</td>\n",
       "      <td>91</td>\n",
       "      <td>2013.0</td>\n",
       "      <td>California</td>\n",
       "      <td>Chardonnay</td>\n",
       "      <td>Blair</td>\n",
       "    </tr>\n",
       "    <tr>\n",
       "      <th>1</th>\n",
       "      <td>France</td>\n",
       "      <td>A wine that has created its own universe. It h...</td>\n",
       "      <td>100</td>\n",
       "      <td>1400.0</td>\n",
       "      <td>Champagne</td>\n",
       "      <td>Chardonnay</td>\n",
       "      <td>Krug</td>\n",
       "    </tr>\n",
       "    <tr>\n",
       "      <th>2</th>\n",
       "      <td>France</td>\n",
       "      <td>A wine that has created its own universe. It h...</td>\n",
       "      <td>100</td>\n",
       "      <td>1400.0</td>\n",
       "      <td>Champagne</td>\n",
       "      <td>Chardonnay</td>\n",
       "      <td>Krug</td>\n",
       "    </tr>\n",
       "    <tr>\n",
       "      <th>3</th>\n",
       "      <td>France</td>\n",
       "      <td>A wine that has created its own universe. It h...</td>\n",
       "      <td>100</td>\n",
       "      <td>1400.0</td>\n",
       "      <td>Champagne</td>\n",
       "      <td>Chardonnay</td>\n",
       "      <td>Krug</td>\n",
       "    </tr>\n",
       "    <tr>\n",
       "      <th>4</th>\n",
       "      <td>France</td>\n",
       "      <td>From arguably the finest white wine vineyard i...</td>\n",
       "      <td>98</td>\n",
       "      <td>757.0</td>\n",
       "      <td>Burgundy</td>\n",
       "      <td>Chardonnay</td>\n",
       "      <td>Bouchard Père &amp; Fils</td>\n",
       "    </tr>\n",
       "  </tbody>\n",
       "</table>\n",
       "</div>"
      ],
      "text/plain": [
       "  country                                        description points   price  \\\n",
       "0      US  The nose on this single-vineyard wine from a s...     91  2013.0   \n",
       "1  France  A wine that has created its own universe. It h...    100  1400.0   \n",
       "2  France  A wine that has created its own universe. It h...    100  1400.0   \n",
       "3  France  A wine that has created its own universe. It h...    100  1400.0   \n",
       "4  France  From arguably the finest white wine vineyard i...     98   757.0   \n",
       "\n",
       "     province     variety                winery  \n",
       "0  California  Chardonnay                 Blair  \n",
       "1   Champagne  Chardonnay                  Krug  \n",
       "2   Champagne  Chardonnay                  Krug  \n",
       "3   Champagne  Chardonnay                  Krug  \n",
       "4    Burgundy  Chardonnay  Bouchard Père & Fils  "
      ]
     },
     "execution_count": 150,
     "metadata": {},
     "output_type": "execute_result"
    }
   ],
   "source": [
    "pd.read_sql_query('select * from newwinemag', con=engine).head()"
   ]
  },
  {
   "cell_type": "markdown",
   "metadata": {
    "collapsed": true,
    "scrolled": false
   },
   "source": [
    "# Load: the final database, tables/collections, and why this was chosen.\n",
    "### 1.\tWe connected to the database.\n",
    "### 2.\tWe then added tables.\n",
    "### 3.\tNext, we used pandas to load the CSV converted DataFrame into the SQL database.\n",
    "### 4.\tThen we used pgAdmin to pull our tables in and confirmed the data was added. \n",
    "### 5.\tWhy we chose to use SQL\n",
    "### a.\tWe used SQL because it is a good balance when you are working with numbers and text. \n",
    "### b.\tSLQ was also chosen because it is relational database where Mongo does not relate as easily. \n",
    "### c.\tWe chose it so we could get more formular with SLQ due to the fact more companies use it and we wanted to stay completive. \n",
    "### d.\tWe also used this because Fred told us too.\n",
    "\n",
    "## Bonus:\n",
    "### Create an Html with links to each DataFrames to display the final results. \n"
   ]
  },
  {
   "cell_type": "code",
   "execution_count": null,
   "metadata": {},
   "outputs": [],
   "source": []
  }
 ],
 "metadata": {
  "kernelspec": {
   "display_name": "Python [conda env:PythonData]",
   "language": "python",
   "name": "conda-env-PythonData-py"
  },
  "language_info": {
   "codemirror_mode": {
    "name": "ipython",
    "version": 3
   },
   "file_extension": ".py",
   "mimetype": "text/x-python",
   "name": "python",
   "nbconvert_exporter": "python",
   "pygments_lexer": "ipython3",
   "version": "3.6.10"
  }
 },
 "nbformat": 4,
 "nbformat_minor": 4
}
