{
 "cells": [
  {
   "cell_type": "code",
   "execution_count": 8,
   "metadata": {},
   "outputs": [],
   "source": [
    "# Import Dependencies\n",
    "import pandas as pd\n",
    "from IPython.display import HTML"
   ]
  },
  {
   "cell_type": "code",
   "execution_count": 18,
   "metadata": {},
   "outputs": [],
   "source": [
    "#file to load\n",
    "#cities_df = pd.read_csv(\"C:/Users/carmi/Desktop/ETL_Project_Carmi/Wines.csv\", encoding='utf-8')\n",
    "#with\n",
    "winexl_df = pd.read_csv(\"C:/Users/carmi/Desktop/ETL_Project_Carmi/Wines.csv\", encoding = \"ISO-8859-1\")\n"
   ]
  },
  {
   "cell_type": "code",
   "execution_count": 19,
   "metadata": {},
   "outputs": [
    {
     "data": {
      "text/html": [
       "<div>\n",
       "<style scoped>\n",
       "    .dataframe tbody tr th:only-of-type {\n",
       "        vertical-align: middle;\n",
       "    }\n",
       "\n",
       "    .dataframe tbody tr th {\n",
       "        vertical-align: top;\n",
       "    }\n",
       "\n",
       "    .dataframe thead th {\n",
       "        text-align: right;\n",
       "    }\n",
       "</style>\n",
       "<table border=\"1\" class=\"dataframe\">\n",
       "  <thead>\n",
       "    <tr style=\"text-align: right;\">\n",
       "      <th></th>\n",
       "      <th>Vintage</th>\n",
       "      <th>Country</th>\n",
       "      <th>County</th>\n",
       "      <th>Designation</th>\n",
       "      <th>Points</th>\n",
       "      <th>Price</th>\n",
       "      <th>Province</th>\n",
       "      <th>Title</th>\n",
       "      <th>Variety</th>\n",
       "      <th>Winery</th>\n",
       "    </tr>\n",
       "  </thead>\n",
       "  <tbody>\n",
       "    <tr>\n",
       "      <th>0</th>\n",
       "      <td>1/1/1919</td>\n",
       "      <td>Spain</td>\n",
       "      <td>Cava</td>\n",
       "      <td>1919 Brut Selecció</td>\n",
       "      <td>88</td>\n",
       "      <td>$13.00</td>\n",
       "      <td>Catalonia</td>\n",
       "      <td>L'Arboc NV 1919 Brut Selecció Sparkling (Cava)</td>\n",
       "      <td>Sparkling Blend</td>\n",
       "      <td>L'Arboc</td>\n",
       "    </tr>\n",
       "    <tr>\n",
       "      <th>1</th>\n",
       "      <td>1/1/1929</td>\n",
       "      <td>Italy</td>\n",
       "      <td>Vernaccia di San Gimignano</td>\n",
       "      <td>NaN</td>\n",
       "      <td>87</td>\n",
       "      <td>$14.00</td>\n",
       "      <td>Tuscany</td>\n",
       "      <td>Guidi 1929 2015 Vernaccia di San Gimignano</td>\n",
       "      <td>Vernaccia</td>\n",
       "      <td>Guidi 1929</td>\n",
       "    </tr>\n",
       "    <tr>\n",
       "      <th>2</th>\n",
       "      <td>1/1/1929</td>\n",
       "      <td>Italy</td>\n",
       "      <td>Sangiovese di Romagna Superiore</td>\n",
       "      <td>Prugneto</td>\n",
       "      <td>84</td>\n",
       "      <td>$15.00</td>\n",
       "      <td>Central Italy</td>\n",
       "      <td>Poderi dal Nespoli 1929 2011 Prugneto (Sangiov...</td>\n",
       "      <td>Sangiovese</td>\n",
       "      <td>Poderi dal Nespoli 1929</td>\n",
       "    </tr>\n",
       "    <tr>\n",
       "      <th>3</th>\n",
       "      <td>1/1/1934</td>\n",
       "      <td>Portugal</td>\n",
       "      <td>NaN</td>\n",
       "      <td>Reserva Velho</td>\n",
       "      <td>93</td>\n",
       "      <td>$495.00</td>\n",
       "      <td>Colares</td>\n",
       "      <td>Adega Viuva Gomes 1934 Reserva Velho Red (Cola...</td>\n",
       "      <td>Ramisco</td>\n",
       "      <td>Adega Viuva Gomes</td>\n",
       "    </tr>\n",
       "    <tr>\n",
       "      <th>4</th>\n",
       "      <td>1/1/1945</td>\n",
       "      <td>France</td>\n",
       "      <td>Rivesaltes</td>\n",
       "      <td>Legend Vintage</td>\n",
       "      <td>95</td>\n",
       "      <td>$350.00</td>\n",
       "      <td>Languedoc-Roussillon</td>\n",
       "      <td>Gérard Bertrand 1945 Legend Vintage Red (Rives...</td>\n",
       "      <td>Red Blend</td>\n",
       "      <td>Gérard Bertrand</td>\n",
       "    </tr>\n",
       "  </tbody>\n",
       "</table>\n",
       "</div>"
      ],
      "text/plain": [
       "    Vintage   Country                           County         Designation  \\\n",
       "0  1/1/1919     Spain                             Cava  1919 Brut Selecció   \n",
       "1  1/1/1929     Italy       Vernaccia di San Gimignano                 NaN   \n",
       "2  1/1/1929     Italy  Sangiovese di Romagna Superiore            Prugneto   \n",
       "3  1/1/1934  Portugal                              NaN       Reserva Velho   \n",
       "4  1/1/1945    France                       Rivesaltes      Legend Vintage   \n",
       "\n",
       "   Points    Price              Province  \\\n",
       "0      88   $13.00             Catalonia   \n",
       "1      87   $14.00               Tuscany   \n",
       "2      84   $15.00         Central Italy   \n",
       "3      93  $495.00               Colares   \n",
       "4      95  $350.00  Languedoc-Roussillon   \n",
       "\n",
       "                                               Title          Variety  \\\n",
       "0     L'Arboc NV 1919 Brut Selecció Sparkling (Cava)  Sparkling Blend   \n",
       "1         Guidi 1929 2015 Vernaccia di San Gimignano        Vernaccia   \n",
       "2  Poderi dal Nespoli 1929 2011 Prugneto (Sangiov...       Sangiovese   \n",
       "3  Adega Viuva Gomes 1934 Reserva Velho Red (Cola...          Ramisco   \n",
       "4  Gérard Bertrand 1945 Legend Vintage Red (Rives...        Red Blend   \n",
       "\n",
       "                    Winery  \n",
       "0                  L'Arboc  \n",
       "1               Guidi 1929  \n",
       "2  Poderi dal Nespoli 1929  \n",
       "3        Adega Viuva Gomes  \n",
       "4          Gérard Bertrand  "
      ]
     },
     "execution_count": 19,
     "metadata": {},
     "output_type": "execute_result"
    }
   ],
   "source": [
    "winexl_df.head()"
   ]
  },
  {
   "cell_type": "code",
   "execution_count": 20,
   "metadata": {},
   "outputs": [],
   "source": [
    "#convert df to HTML\n",
    "HTML = winexl_df.to_html(index=False, justify='right')"
   ]
  },
  {
   "cell_type": "code",
   "execution_count": 22,
   "metadata": {},
   "outputs": [],
   "source": [
    "winexl_df.to_html(\"data1.html\")"
   ]
  },
  {
   "cell_type": "code",
   "execution_count": null,
   "metadata": {},
   "outputs": [],
   "source": []
  }
 ],
 "metadata": {
  "kernelspec": {
   "display_name": "Python [conda env:PythonData]",
   "language": "python",
   "name": "conda-env-PythonData-py"
  },
  "language_info": {
   "codemirror_mode": {
    "name": "ipython",
    "version": 3
   },
   "file_extension": ".py",
   "mimetype": "text/x-python",
   "name": "python",
   "nbconvert_exporter": "python",
   "pygments_lexer": "ipython3",
   "version": "3.6.10"
  }
 },
 "nbformat": 4,
 "nbformat_minor": 4
}
