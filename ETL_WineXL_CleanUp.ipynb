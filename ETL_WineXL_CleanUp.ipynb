{
 "cells": [
  {
   "cell_type": "markdown",
   "metadata": {},
   "source": [
    "# ETL_WineXL_CleanUP"
   ]
  },
  {
   "cell_type": "markdown",
   "metadata": {},
   "source": [
    "### Comments on ETL_WineXL_CleanUp\n",
    "\n",
    "### 1) Since the file we were cleaning up was a .xlxs, we needed to install openpyxl and then use that as our engine to read the excel file\n",
    "\n",
    "### 2) Eliminated Vintage, County and Designation columns\n",
    "\n",
    "### 3) Determined that there were incomplete rows and then eliminated those rows\n",
    "\n",
    "### 4) Evaluated data to determine if the data was of the appropriate type. Noted that Price was an object rather than a float\n",
    "\n",
    "### 5) Converted the price column to a float\n",
    "\n",
    "### 6) Eliminated all wines that were not include in the top 6 favorite wines per the Art Wine Preserve website\n",
    "\n",
    "### 7) Reindexed the DataFrame after eliminating non-top 6 wines"
   ]
  },
  {
   "cell_type": "code",
   "execution_count": 1,
   "metadata": {},
   "outputs": [],
   "source": [
    "import pandas as pd\n",
    "from sqlalchemy import create_engine\n",
    "#!pip install openpyxl"
   ]
  },
  {
   "cell_type": "markdown",
   "metadata": {},
   "source": [
    "### Store xlsx into a DataFrame"
   ]
  },
  {
   "cell_type": "code",
   "execution_count": 2,
   "metadata": {},
   "outputs": [
    {
     "data": {
      "text/html": [
       "<div>\n",
       "<style scoped>\n",
       "    .dataframe tbody tr th:only-of-type {\n",
       "        vertical-align: middle;\n",
       "    }\n",
       "\n",
       "    .dataframe tbody tr th {\n",
       "        vertical-align: top;\n",
       "    }\n",
       "\n",
       "    .dataframe thead th {\n",
       "        text-align: right;\n",
       "    }\n",
       "</style>\n",
       "<table border=\"1\" class=\"dataframe\">\n",
       "  <thead>\n",
       "    <tr style=\"text-align: right;\">\n",
       "      <th></th>\n",
       "      <th>Vintage</th>\n",
       "      <th>Country</th>\n",
       "      <th>County</th>\n",
       "      <th>Designation</th>\n",
       "      <th>Points</th>\n",
       "      <th>Price</th>\n",
       "      <th>Province</th>\n",
       "      <th>Title</th>\n",
       "      <th>Variety</th>\n",
       "      <th>Winery</th>\n",
       "    </tr>\n",
       "  </thead>\n",
       "  <tbody>\n",
       "    <tr>\n",
       "      <th>0</th>\n",
       "      <td>1919-01-01 00:00:00</td>\n",
       "      <td>Spain</td>\n",
       "      <td>Cava</td>\n",
       "      <td>1919 Brut Selecció</td>\n",
       "      <td>88</td>\n",
       "      <td>$13.00</td>\n",
       "      <td>Catalonia</td>\n",
       "      <td>L'Arboc NV 1919 Brut Selecció Sparkling (Cava)</td>\n",
       "      <td>Sparkling Blend</td>\n",
       "      <td>L'Arboc</td>\n",
       "    </tr>\n",
       "    <tr>\n",
       "      <th>1</th>\n",
       "      <td>1929-01-01 00:00:00</td>\n",
       "      <td>Italy</td>\n",
       "      <td>Vernaccia di San Gimignano</td>\n",
       "      <td>NaN</td>\n",
       "      <td>87</td>\n",
       "      <td>$14.00</td>\n",
       "      <td>Tuscany</td>\n",
       "      <td>Guidi 1929 2015 Vernaccia di San Gimignano</td>\n",
       "      <td>Vernaccia</td>\n",
       "      <td>Guidi 1929</td>\n",
       "    </tr>\n",
       "    <tr>\n",
       "      <th>2</th>\n",
       "      <td>1929-01-01 00:00:00</td>\n",
       "      <td>Italy</td>\n",
       "      <td>Sangiovese di Romagna Superiore</td>\n",
       "      <td>Prugneto</td>\n",
       "      <td>84</td>\n",
       "      <td>$15.00</td>\n",
       "      <td>Central Italy</td>\n",
       "      <td>Poderi dal Nespoli 1929 2011 Prugneto (Sangiov...</td>\n",
       "      <td>Sangiovese</td>\n",
       "      <td>Poderi dal Nespoli 1929</td>\n",
       "    </tr>\n",
       "    <tr>\n",
       "      <th>3</th>\n",
       "      <td>1934-01-01 00:00:00</td>\n",
       "      <td>Portugal</td>\n",
       "      <td>NaN</td>\n",
       "      <td>Reserva Velho</td>\n",
       "      <td>93</td>\n",
       "      <td>$495.00</td>\n",
       "      <td>Colares</td>\n",
       "      <td>Adega Viuva Gomes 1934 Reserva Velho Red (Cola...</td>\n",
       "      <td>Ramisco</td>\n",
       "      <td>Adega Viuva Gomes</td>\n",
       "    </tr>\n",
       "    <tr>\n",
       "      <th>4</th>\n",
       "      <td>1945-01-01 00:00:00</td>\n",
       "      <td>France</td>\n",
       "      <td>Rivesaltes</td>\n",
       "      <td>Legend Vintage</td>\n",
       "      <td>95</td>\n",
       "      <td>$350.00</td>\n",
       "      <td>Languedoc-Roussillon</td>\n",
       "      <td>Gérard Bertrand 1945 Legend Vintage Red (Rives...</td>\n",
       "      <td>Red Blend</td>\n",
       "      <td>Gérard Bertrand</td>\n",
       "    </tr>\n",
       "  </tbody>\n",
       "</table>\n",
       "</div>"
      ],
      "text/plain": [
       "               Vintage   Country                           County  \\\n",
       "0  1919-01-01 00:00:00     Spain                             Cava   \n",
       "1  1929-01-01 00:00:00     Italy       Vernaccia di San Gimignano   \n",
       "2  1929-01-01 00:00:00     Italy  Sangiovese di Romagna Superiore   \n",
       "3  1934-01-01 00:00:00  Portugal                              NaN   \n",
       "4  1945-01-01 00:00:00    France                       Rivesaltes   \n",
       "\n",
       "          Designation  Points    Price              Province  \\\n",
       "0  1919 Brut Selecció      88   $13.00             Catalonia   \n",
       "1                 NaN      87   $14.00               Tuscany   \n",
       "2            Prugneto      84   $15.00         Central Italy   \n",
       "3       Reserva Velho      93  $495.00               Colares   \n",
       "4      Legend Vintage      95  $350.00  Languedoc-Roussillon   \n",
       "\n",
       "                                               Title          Variety  \\\n",
       "0     L'Arboc NV 1919 Brut Selecció Sparkling (Cava)  Sparkling Blend   \n",
       "1         Guidi 1929 2015 Vernaccia di San Gimignano        Vernaccia   \n",
       "2  Poderi dal Nespoli 1929 2011 Prugneto (Sangiov...       Sangiovese   \n",
       "3  Adega Viuva Gomes 1934 Reserva Velho Red (Cola...          Ramisco   \n",
       "4  Gérard Bertrand 1945 Legend Vintage Red (Rives...        Red Blend   \n",
       "\n",
       "                    Winery  \n",
       "0                  L'Arboc  \n",
       "1               Guidi 1929  \n",
       "2  Poderi dal Nespoli 1929  \n",
       "3        Adega Viuva Gomes  \n",
       "4          Gérard Bertrand  "
      ]
     },
     "execution_count": 2,
     "metadata": {},
     "output_type": "execute_result"
    }
   ],
   "source": [
    "data_file = \"Resources/Wines.xlsx\"\n",
    "df = pd.read_excel(data_file, engine='openpyxl')\n",
    "df.head()"
   ]
  },
  {
   "cell_type": "markdown",
   "metadata": {},
   "source": [
    "### Eliminate unnecessary columns"
   ]
  },
  {
   "cell_type": "code",
   "execution_count": 3,
   "metadata": {},
   "outputs": [
    {
     "data": {
      "text/html": [
       "<div>\n",
       "<style scoped>\n",
       "    .dataframe tbody tr th:only-of-type {\n",
       "        vertical-align: middle;\n",
       "    }\n",
       "\n",
       "    .dataframe tbody tr th {\n",
       "        vertical-align: top;\n",
       "    }\n",
       "\n",
       "    .dataframe thead th {\n",
       "        text-align: right;\n",
       "    }\n",
       "</style>\n",
       "<table border=\"1\" class=\"dataframe\">\n",
       "  <thead>\n",
       "    <tr style=\"text-align: right;\">\n",
       "      <th></th>\n",
       "      <th>Country</th>\n",
       "      <th>Points</th>\n",
       "      <th>Price</th>\n",
       "      <th>Province</th>\n",
       "      <th>Title</th>\n",
       "      <th>Variety</th>\n",
       "      <th>Winery</th>\n",
       "    </tr>\n",
       "  </thead>\n",
       "  <tbody>\n",
       "    <tr>\n",
       "      <th>0</th>\n",
       "      <td>Spain</td>\n",
       "      <td>88</td>\n",
       "      <td>$13.00</td>\n",
       "      <td>Catalonia</td>\n",
       "      <td>L'Arboc NV 1919 Brut Selecció Sparkling (Cava)</td>\n",
       "      <td>Sparkling Blend</td>\n",
       "      <td>L'Arboc</td>\n",
       "    </tr>\n",
       "    <tr>\n",
       "      <th>1</th>\n",
       "      <td>Italy</td>\n",
       "      <td>87</td>\n",
       "      <td>$14.00</td>\n",
       "      <td>Tuscany</td>\n",
       "      <td>Guidi 1929 2015 Vernaccia di San Gimignano</td>\n",
       "      <td>Vernaccia</td>\n",
       "      <td>Guidi 1929</td>\n",
       "    </tr>\n",
       "    <tr>\n",
       "      <th>2</th>\n",
       "      <td>Italy</td>\n",
       "      <td>84</td>\n",
       "      <td>$15.00</td>\n",
       "      <td>Central Italy</td>\n",
       "      <td>Poderi dal Nespoli 1929 2011 Prugneto (Sangiov...</td>\n",
       "      <td>Sangiovese</td>\n",
       "      <td>Poderi dal Nespoli 1929</td>\n",
       "    </tr>\n",
       "    <tr>\n",
       "      <th>3</th>\n",
       "      <td>Portugal</td>\n",
       "      <td>93</td>\n",
       "      <td>$495.00</td>\n",
       "      <td>Colares</td>\n",
       "      <td>Adega Viuva Gomes 1934 Reserva Velho Red (Cola...</td>\n",
       "      <td>Ramisco</td>\n",
       "      <td>Adega Viuva Gomes</td>\n",
       "    </tr>\n",
       "    <tr>\n",
       "      <th>4</th>\n",
       "      <td>France</td>\n",
       "      <td>95</td>\n",
       "      <td>$350.00</td>\n",
       "      <td>Languedoc-Roussillon</td>\n",
       "      <td>Gérard Bertrand 1945 Legend Vintage Red (Rives...</td>\n",
       "      <td>Red Blend</td>\n",
       "      <td>Gérard Bertrand</td>\n",
       "    </tr>\n",
       "  </tbody>\n",
       "</table>\n",
       "</div>"
      ],
      "text/plain": [
       "    Country  Points    Price              Province  \\\n",
       "0     Spain      88   $13.00             Catalonia   \n",
       "1     Italy      87   $14.00               Tuscany   \n",
       "2     Italy      84   $15.00         Central Italy   \n",
       "3  Portugal      93  $495.00               Colares   \n",
       "4    France      95  $350.00  Languedoc-Roussillon   \n",
       "\n",
       "                                               Title          Variety  \\\n",
       "0     L'Arboc NV 1919 Brut Selecció Sparkling (Cava)  Sparkling Blend   \n",
       "1         Guidi 1929 2015 Vernaccia di San Gimignano        Vernaccia   \n",
       "2  Poderi dal Nespoli 1929 2011 Prugneto (Sangiov...       Sangiovese   \n",
       "3  Adega Viuva Gomes 1934 Reserva Velho Red (Cola...          Ramisco   \n",
       "4  Gérard Bertrand 1945 Legend Vintage Red (Rives...        Red Blend   \n",
       "\n",
       "                    Winery  \n",
       "0                  L'Arboc  \n",
       "1               Guidi 1929  \n",
       "2  Poderi dal Nespoli 1929  \n",
       "3        Adega Viuva Gomes  \n",
       "4          Gérard Bertrand  "
      ]
     },
     "execution_count": 3,
     "metadata": {},
     "output_type": "execute_result"
    }
   ],
   "source": [
    "new_df = df[['Country', 'Points', \"Price\", 'Province', 'Title', 'Variety', 'Winery']].copy()\n",
    "new_df.head()"
   ]
  },
  {
   "cell_type": "markdown",
   "metadata": {},
   "source": [
    "### Check to see if all rows have complete data"
   ]
  },
  {
   "cell_type": "code",
   "execution_count": 4,
   "metadata": {},
   "outputs": [
    {
     "data": {
      "text/plain": [
       "Country     24989\n",
       "Points      24997\n",
       "Price       23375\n",
       "Province    24989\n",
       "Title       24997\n",
       "Variety     24997\n",
       "Winery      24997\n",
       "dtype: int64"
      ]
     },
     "execution_count": 4,
     "metadata": {},
     "output_type": "execute_result"
    }
   ],
   "source": [
    "new_df.count()"
   ]
  },
  {
   "cell_type": "markdown",
   "metadata": {},
   "source": [
    "### Eliminate rows with incomplete data"
   ]
  },
  {
   "cell_type": "code",
   "execution_count": 5,
   "metadata": {},
   "outputs": [
    {
     "data": {
      "text/plain": [
       "Country     23367\n",
       "Points      23367\n",
       "Price       23367\n",
       "Province    23367\n",
       "Title       23367\n",
       "Variety     23367\n",
       "Winery      23367\n",
       "dtype: int64"
      ]
     },
     "execution_count": 5,
     "metadata": {},
     "output_type": "execute_result"
    }
   ],
   "source": [
    "new_df = new_df.dropna(how='any')\n",
    "new_df.count()"
   ]
  },
  {
   "cell_type": "markdown",
   "metadata": {},
   "source": [
    "### Determine if all columns are set up in the correct data type"
   ]
  },
  {
   "cell_type": "code",
   "execution_count": 6,
   "metadata": {},
   "outputs": [
    {
     "data": {
      "text/plain": [
       "Country     object\n",
       "Points       int64\n",
       "Price       object\n",
       "Province    object\n",
       "Title       object\n",
       "Variety     object\n",
       "Winery      object\n",
       "dtype: object"
      ]
     },
     "execution_count": 6,
     "metadata": {},
     "output_type": "execute_result"
    }
   ],
   "source": [
    "new_df.dtypes"
   ]
  },
  {
   "cell_type": "markdown",
   "metadata": {},
   "source": [
    "### Note: price should be a float"
   ]
  },
  {
   "cell_type": "markdown",
   "metadata": {},
   "source": [
    "### Convert the Price columnt to float"
   ]
  },
  {
   "cell_type": "code",
   "execution_count": 7,
   "metadata": {},
   "outputs": [
    {
     "data": {
      "text/plain": [
       "Country      object\n",
       "Points        int64\n",
       "Price       float64\n",
       "Province     object\n",
       "Title        object\n",
       "Variety      object\n",
       "Winery       object\n",
       "dtype: object"
      ]
     },
     "execution_count": 7,
     "metadata": {},
     "output_type": "execute_result"
    }
   ],
   "source": [
    "\n",
    "new_df['Price'] = [float(x.replace(\"$\",\"\").replace(\",\",\"\")) for x in new_df['Price']]\n",
    "new_df.dtypes"
   ]
  },
  {
   "cell_type": "markdown",
   "metadata": {},
   "source": [
    "### Isolate the top 6 wine types per https://artwinepreserver.com/: Cabernet Sauvignon, Chardonnay, Pinot Gris/Pinot Grigio, Pinot Noir, Sauvignon Blanc, Merlot (Pinot Gris/Pinot Grigio - Pinot Gris in this dataset)"
   ]
  },
  {
   "cell_type": "code",
   "execution_count": 8,
   "metadata": {},
   "outputs": [
    {
     "data": {
      "text/plain": [
       "Pinot Noir            2552\n",
       "Chardonnay            2167\n",
       "Cabernet Sauvignon    1834\n",
       "Sauvignon Blanc        986\n",
       "Merlot                 587\n",
       "Pinot Gris             274\n",
       "Name: Variety, dtype: int64"
      ]
     },
     "execution_count": 8,
     "metadata": {},
     "output_type": "execute_result"
    }
   ],
   "source": [
    "winexl_df = new_df.loc[(new_df['Variety'] == \"Cabernet Sauvignon\") | (new_df['Variety'] == \"Chardonnay\") \n",
    "                       | (new_df['Variety'] == \"Pinot Gris\") | (new_df['Variety'] == \"Pinot Noir\")\n",
    "                       | (new_df['Variety'] == \"Sauvignon Blanc\") | (new_df['Variety'] == \"Merlot\")]\n",
    "count = winexl_df['Variety'].value_counts()\n",
    "count"
   ]
  },
  {
   "cell_type": "code",
   "execution_count": 9,
   "metadata": {},
   "outputs": [
    {
     "data": {
      "text/html": [
       "<div>\n",
       "<style scoped>\n",
       "    .dataframe tbody tr th:only-of-type {\n",
       "        vertical-align: middle;\n",
       "    }\n",
       "\n",
       "    .dataframe tbody tr th {\n",
       "        vertical-align: top;\n",
       "    }\n",
       "\n",
       "    .dataframe thead th {\n",
       "        text-align: right;\n",
       "    }\n",
       "</style>\n",
       "<table border=\"1\" class=\"dataframe\">\n",
       "  <thead>\n",
       "    <tr style=\"text-align: right;\">\n",
       "      <th></th>\n",
       "      <th>Country</th>\n",
       "      <th>Points</th>\n",
       "      <th>Price</th>\n",
       "      <th>Province</th>\n",
       "      <th>Title</th>\n",
       "      <th>Variety</th>\n",
       "      <th>Winery</th>\n",
       "    </tr>\n",
       "  </thead>\n",
       "  <tbody>\n",
       "    <tr>\n",
       "      <th>11</th>\n",
       "      <td>US</td>\n",
       "      <td>89</td>\n",
       "      <td>170.0</td>\n",
       "      <td>California</td>\n",
       "      <td>Sebastiani 1987 Cherryblock Cabernet Sauvignon...</td>\n",
       "      <td>Cabernet Sauvignon</td>\n",
       "      <td>Sebastiani</td>\n",
       "    </tr>\n",
       "    <tr>\n",
       "      <th>23</th>\n",
       "      <td>US</td>\n",
       "      <td>82</td>\n",
       "      <td>13.0</td>\n",
       "      <td>California</td>\n",
       "      <td>Gan Eden 1994 Chardonnay (Sonoma County)</td>\n",
       "      <td>Chardonnay</td>\n",
       "      <td>Gan Eden</td>\n",
       "    </tr>\n",
       "    <tr>\n",
       "      <th>33</th>\n",
       "      <td>South Africa</td>\n",
       "      <td>87</td>\n",
       "      <td>17.0</td>\n",
       "      <td>Stellenbosch</td>\n",
       "      <td>Middelvlei 1995 Cabernet Sauvignon (Stellenbosch)</td>\n",
       "      <td>Cabernet Sauvignon</td>\n",
       "      <td>Middelvlei</td>\n",
       "    </tr>\n",
       "    <tr>\n",
       "      <th>36</th>\n",
       "      <td>US</td>\n",
       "      <td>83</td>\n",
       "      <td>22.0</td>\n",
       "      <td>California</td>\n",
       "      <td>Meridian 1996 Coastal Reserve Cabernet Sauvign...</td>\n",
       "      <td>Cabernet Sauvignon</td>\n",
       "      <td>Meridian</td>\n",
       "    </tr>\n",
       "    <tr>\n",
       "      <th>37</th>\n",
       "      <td>US</td>\n",
       "      <td>84</td>\n",
       "      <td>29.0</td>\n",
       "      <td>Washington</td>\n",
       "      <td>Covey Run 1996 Whiskey Canyon Vyd Cabernet Sau...</td>\n",
       "      <td>Cabernet Sauvignon</td>\n",
       "      <td>Covey Run</td>\n",
       "    </tr>\n",
       "  </tbody>\n",
       "</table>\n",
       "</div>"
      ],
      "text/plain": [
       "         Country  Points  Price      Province  \\\n",
       "11            US      89  170.0    California   \n",
       "23            US      82   13.0    California   \n",
       "33  South Africa      87   17.0  Stellenbosch   \n",
       "36            US      83   22.0    California   \n",
       "37            US      84   29.0    Washington   \n",
       "\n",
       "                                                Title             Variety  \\\n",
       "11  Sebastiani 1987 Cherryblock Cabernet Sauvignon...  Cabernet Sauvignon   \n",
       "23           Gan Eden 1994 Chardonnay (Sonoma County)          Chardonnay   \n",
       "33  Middelvlei 1995 Cabernet Sauvignon (Stellenbosch)  Cabernet Sauvignon   \n",
       "36  Meridian 1996 Coastal Reserve Cabernet Sauvign...  Cabernet Sauvignon   \n",
       "37  Covey Run 1996 Whiskey Canyon Vyd Cabernet Sau...  Cabernet Sauvignon   \n",
       "\n",
       "        Winery  \n",
       "11  Sebastiani  \n",
       "23    Gan Eden  \n",
       "33  Middelvlei  \n",
       "36    Meridian  \n",
       "37   Covey Run  "
      ]
     },
     "execution_count": 9,
     "metadata": {},
     "output_type": "execute_result"
    }
   ],
   "source": [
    "winexl_df.head()"
   ]
  },
  {
   "cell_type": "code",
   "execution_count": null,
   "metadata": {},
   "outputs": [],
   "source": []
  },
  {
   "cell_type": "code",
   "execution_count": 10,
   "metadata": {},
   "outputs": [
    {
     "data": {
      "text/html": [
       "<div>\n",
       "<style scoped>\n",
       "    .dataframe tbody tr th:only-of-type {\n",
       "        vertical-align: middle;\n",
       "    }\n",
       "\n",
       "    .dataframe tbody tr th {\n",
       "        vertical-align: top;\n",
       "    }\n",
       "\n",
       "    .dataframe thead th {\n",
       "        text-align: right;\n",
       "    }\n",
       "</style>\n",
       "<table border=\"1\" class=\"dataframe\">\n",
       "  <thead>\n",
       "    <tr style=\"text-align: right;\">\n",
       "      <th></th>\n",
       "      <th>Country</th>\n",
       "      <th>Points</th>\n",
       "      <th>Price</th>\n",
       "      <th>Province</th>\n",
       "      <th>Title</th>\n",
       "      <th>Variety</th>\n",
       "      <th>Winery</th>\n",
       "    </tr>\n",
       "  </thead>\n",
       "  <tbody>\n",
       "    <tr>\n",
       "      <th>0</th>\n",
       "      <td>US</td>\n",
       "      <td>89</td>\n",
       "      <td>170.0</td>\n",
       "      <td>California</td>\n",
       "      <td>Sebastiani 1987 Cherryblock Cabernet Sauvignon...</td>\n",
       "      <td>Cabernet Sauvignon</td>\n",
       "      <td>Sebastiani</td>\n",
       "    </tr>\n",
       "    <tr>\n",
       "      <th>1</th>\n",
       "      <td>US</td>\n",
       "      <td>82</td>\n",
       "      <td>13.0</td>\n",
       "      <td>California</td>\n",
       "      <td>Gan Eden 1994 Chardonnay (Sonoma County)</td>\n",
       "      <td>Chardonnay</td>\n",
       "      <td>Gan Eden</td>\n",
       "    </tr>\n",
       "    <tr>\n",
       "      <th>2</th>\n",
       "      <td>South Africa</td>\n",
       "      <td>87</td>\n",
       "      <td>17.0</td>\n",
       "      <td>Stellenbosch</td>\n",
       "      <td>Middelvlei 1995 Cabernet Sauvignon (Stellenbosch)</td>\n",
       "      <td>Cabernet Sauvignon</td>\n",
       "      <td>Middelvlei</td>\n",
       "    </tr>\n",
       "    <tr>\n",
       "      <th>3</th>\n",
       "      <td>US</td>\n",
       "      <td>83</td>\n",
       "      <td>22.0</td>\n",
       "      <td>California</td>\n",
       "      <td>Meridian 1996 Coastal Reserve Cabernet Sauvign...</td>\n",
       "      <td>Cabernet Sauvignon</td>\n",
       "      <td>Meridian</td>\n",
       "    </tr>\n",
       "    <tr>\n",
       "      <th>4</th>\n",
       "      <td>US</td>\n",
       "      <td>84</td>\n",
       "      <td>29.0</td>\n",
       "      <td>Washington</td>\n",
       "      <td>Covey Run 1996 Whiskey Canyon Vyd Cabernet Sau...</td>\n",
       "      <td>Cabernet Sauvignon</td>\n",
       "      <td>Covey Run</td>\n",
       "    </tr>\n",
       "  </tbody>\n",
       "</table>\n",
       "</div>"
      ],
      "text/plain": [
       "        Country  Points  Price      Province  \\\n",
       "0            US      89  170.0    California   \n",
       "1            US      82   13.0    California   \n",
       "2  South Africa      87   17.0  Stellenbosch   \n",
       "3            US      83   22.0    California   \n",
       "4            US      84   29.0    Washington   \n",
       "\n",
       "                                               Title             Variety  \\\n",
       "0  Sebastiani 1987 Cherryblock Cabernet Sauvignon...  Cabernet Sauvignon   \n",
       "1           Gan Eden 1994 Chardonnay (Sonoma County)          Chardonnay   \n",
       "2  Middelvlei 1995 Cabernet Sauvignon (Stellenbosch)  Cabernet Sauvignon   \n",
       "3  Meridian 1996 Coastal Reserve Cabernet Sauvign...  Cabernet Sauvignon   \n",
       "4  Covey Run 1996 Whiskey Canyon Vyd Cabernet Sau...  Cabernet Sauvignon   \n",
       "\n",
       "       Winery  \n",
       "0  Sebastiani  \n",
       "1    Gan Eden  \n",
       "2  Middelvlei  \n",
       "3    Meridian  \n",
       "4   Covey Run  "
      ]
     },
     "execution_count": 10,
     "metadata": {},
     "output_type": "execute_result"
    }
   ],
   "source": [
    "\n",
    "winexl_df = winexl_df.reset_index(drop=True)\n",
    "winexl_df.head()"
   ]
  },
  {
   "cell_type": "code",
   "execution_count": 12,
   "metadata": {},
   "outputs": [
    {
     "ename": "ModuleNotFoundError",
     "evalue": "No module named 'psycopg2'",
     "output_type": "error",
     "traceback": [
      "\u001b[1;31m---------------------------------------------------------------------------\u001b[0m",
      "\u001b[1;31mModuleNotFoundError\u001b[0m                       Traceback (most recent call last)",
      "\u001b[1;32m<ipython-input-12-c3d1abd61d02>\u001b[0m in \u001b[0;36m<module>\u001b[1;34m\u001b[0m\n\u001b[0;32m      1\u001b[0m \u001b[0mrds_connection_string\u001b[0m \u001b[1;33m=\u001b[0m \u001b[1;34m\"<postgres>:<postgres>@localhost:5432/customer_db\"\u001b[0m\u001b[1;33m\u001b[0m\u001b[1;33m\u001b[0m\u001b[0m\n\u001b[1;32m----> 2\u001b[1;33m \u001b[0mengine\u001b[0m \u001b[1;33m=\u001b[0m \u001b[0mcreate_engine\u001b[0m\u001b[1;33m(\u001b[0m\u001b[1;34mf'postgresql://{rds_connection_string}'\u001b[0m\u001b[1;33m)\u001b[0m\u001b[1;33m\u001b[0m\u001b[1;33m\u001b[0m\u001b[0m\n\u001b[0m",
      "\u001b[1;32m~\\anaconda3\\lib\\site-packages\\sqlalchemy\\engine\\__init__.py\u001b[0m in \u001b[0;36mcreate_engine\u001b[1;34m(*args, **kwargs)\u001b[0m\n\u001b[0;32m    498\u001b[0m     \u001b[0mstrategy\u001b[0m \u001b[1;33m=\u001b[0m \u001b[0mkwargs\u001b[0m\u001b[1;33m.\u001b[0m\u001b[0mpop\u001b[0m\u001b[1;33m(\u001b[0m\u001b[1;34m\"strategy\"\u001b[0m\u001b[1;33m,\u001b[0m \u001b[0mdefault_strategy\u001b[0m\u001b[1;33m)\u001b[0m\u001b[1;33m\u001b[0m\u001b[1;33m\u001b[0m\u001b[0m\n\u001b[0;32m    499\u001b[0m     \u001b[0mstrategy\u001b[0m \u001b[1;33m=\u001b[0m \u001b[0mstrategies\u001b[0m\u001b[1;33m.\u001b[0m\u001b[0mstrategies\u001b[0m\u001b[1;33m[\u001b[0m\u001b[0mstrategy\u001b[0m\u001b[1;33m]\u001b[0m\u001b[1;33m\u001b[0m\u001b[1;33m\u001b[0m\u001b[0m\n\u001b[1;32m--> 500\u001b[1;33m     \u001b[1;32mreturn\u001b[0m \u001b[0mstrategy\u001b[0m\u001b[1;33m.\u001b[0m\u001b[0mcreate\u001b[0m\u001b[1;33m(\u001b[0m\u001b[1;33m*\u001b[0m\u001b[0margs\u001b[0m\u001b[1;33m,\u001b[0m \u001b[1;33m**\u001b[0m\u001b[0mkwargs\u001b[0m\u001b[1;33m)\u001b[0m\u001b[1;33m\u001b[0m\u001b[1;33m\u001b[0m\u001b[0m\n\u001b[0m\u001b[0;32m    501\u001b[0m \u001b[1;33m\u001b[0m\u001b[0m\n\u001b[0;32m    502\u001b[0m \u001b[1;33m\u001b[0m\u001b[0m\n",
      "\u001b[1;32m~\\anaconda3\\lib\\site-packages\\sqlalchemy\\engine\\strategies.py\u001b[0m in \u001b[0;36mcreate\u001b[1;34m(self, name_or_url, **kwargs)\u001b[0m\n\u001b[0;32m     85\u001b[0m                 \u001b[1;32mif\u001b[0m \u001b[0mk\u001b[0m \u001b[1;32min\u001b[0m \u001b[0mkwargs\u001b[0m\u001b[1;33m:\u001b[0m\u001b[1;33m\u001b[0m\u001b[1;33m\u001b[0m\u001b[0m\n\u001b[0;32m     86\u001b[0m                     \u001b[0mdbapi_args\u001b[0m\u001b[1;33m[\u001b[0m\u001b[0mk\u001b[0m\u001b[1;33m]\u001b[0m \u001b[1;33m=\u001b[0m \u001b[0mpop_kwarg\u001b[0m\u001b[1;33m(\u001b[0m\u001b[0mk\u001b[0m\u001b[1;33m)\u001b[0m\u001b[1;33m\u001b[0m\u001b[1;33m\u001b[0m\u001b[0m\n\u001b[1;32m---> 87\u001b[1;33m             \u001b[0mdbapi\u001b[0m \u001b[1;33m=\u001b[0m \u001b[0mdialect_cls\u001b[0m\u001b[1;33m.\u001b[0m\u001b[0mdbapi\u001b[0m\u001b[1;33m(\u001b[0m\u001b[1;33m**\u001b[0m\u001b[0mdbapi_args\u001b[0m\u001b[1;33m)\u001b[0m\u001b[1;33m\u001b[0m\u001b[1;33m\u001b[0m\u001b[0m\n\u001b[0m\u001b[0;32m     88\u001b[0m \u001b[1;33m\u001b[0m\u001b[0m\n\u001b[0;32m     89\u001b[0m         \u001b[0mdialect_args\u001b[0m\u001b[1;33m[\u001b[0m\u001b[1;34m\"dbapi\"\u001b[0m\u001b[1;33m]\u001b[0m \u001b[1;33m=\u001b[0m \u001b[0mdbapi\u001b[0m\u001b[1;33m\u001b[0m\u001b[1;33m\u001b[0m\u001b[0m\n",
      "\u001b[1;32m~\\anaconda3\\lib\\site-packages\\sqlalchemy\\dialects\\postgresql\\psycopg2.py\u001b[0m in \u001b[0;36mdbapi\u001b[1;34m(cls)\u001b[0m\n\u001b[0;32m    776\u001b[0m     \u001b[1;33m@\u001b[0m\u001b[0mclassmethod\u001b[0m\u001b[1;33m\u001b[0m\u001b[1;33m\u001b[0m\u001b[0m\n\u001b[0;32m    777\u001b[0m     \u001b[1;32mdef\u001b[0m \u001b[0mdbapi\u001b[0m\u001b[1;33m(\u001b[0m\u001b[0mcls\u001b[0m\u001b[1;33m)\u001b[0m\u001b[1;33m:\u001b[0m\u001b[1;33m\u001b[0m\u001b[1;33m\u001b[0m\u001b[0m\n\u001b[1;32m--> 778\u001b[1;33m         \u001b[1;32mimport\u001b[0m \u001b[0mpsycopg2\u001b[0m\u001b[1;33m\u001b[0m\u001b[1;33m\u001b[0m\u001b[0m\n\u001b[0m\u001b[0;32m    779\u001b[0m \u001b[1;33m\u001b[0m\u001b[0m\n\u001b[0;32m    780\u001b[0m         \u001b[1;32mreturn\u001b[0m \u001b[0mpsycopg2\u001b[0m\u001b[1;33m\u001b[0m\u001b[1;33m\u001b[0m\u001b[0m\n",
      "\u001b[1;31mModuleNotFoundError\u001b[0m: No module named 'psycopg2'"
     ]
    }
   ],
   "source": [
    "rds_connection_string = \"<postgres>:<postgres>@localhost:5432/customer_db\"\n",
    "engine = create_engine(f'postgresql://{rds_connection_string}')"
   ]
  },
  {
   "cell_type": "code",
   "execution_count": null,
   "metadata": {},
   "outputs": [],
   "source": []
  },
  {
   "cell_type": "code",
   "execution_count": null,
   "metadata": {},
   "outputs": [],
   "source": []
  },
  {
   "cell_type": "code",
   "execution_count": null,
   "metadata": {},
   "outputs": [],
   "source": []
  },
  {
   "cell_type": "code",
   "execution_count": null,
   "metadata": {},
   "outputs": [],
   "source": []
  }
 ],
 "metadata": {
  "kernelspec": {
   "display_name": "Python 3",
   "language": "python",
   "name": "python3"
  },
  "language_info": {
   "codemirror_mode": {
    "name": "ipython",
    "version": 3
   },
   "file_extension": ".py",
   "mimetype": "text/x-python",
   "name": "python",
   "nbconvert_exporter": "python",
   "pygments_lexer": "ipython3",
   "version": "3.8.5"
  }
 },
 "nbformat": 4,
 "nbformat_minor": 4
}
