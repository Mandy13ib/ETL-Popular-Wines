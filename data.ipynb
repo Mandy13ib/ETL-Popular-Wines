{
 "cells": [
  {
   "cell_type": "code",
   "execution_count": 1,
   "metadata": {},
   "outputs": [],
   "source": [
    "# Import Dependencies\n",
    "import pandas as pd\n",
    "from IPython.display import HTML"
   ]
  },
  {
   "cell_type": "code",
   "execution_count": 2,
   "metadata": {},
   "outputs": [],
   "source": [
    "winexl_df = pd.read_csv(\"C:/Users/carmi/Desktop/ETL_Project_Carmi/winemag-data_first150k_for_project.csv\", encoding = \"ISO-8859-1\")"
   ]
  },
  {
   "cell_type": "code",
   "execution_count": 3,
   "metadata": {},
   "outputs": [
    {
     "data": {
      "text/html": [
       "<div>\n",
       "<style scoped>\n",
       "    .dataframe tbody tr th:only-of-type {\n",
       "        vertical-align: middle;\n",
       "    }\n",
       "\n",
       "    .dataframe tbody tr th {\n",
       "        vertical-align: top;\n",
       "    }\n",
       "\n",
       "    .dataframe thead th {\n",
       "        text-align: right;\n",
       "    }\n",
       "</style>\n",
       "<table border=\"1\" class=\"dataframe\">\n",
       "  <thead>\n",
       "    <tr style=\"text-align: right;\">\n",
       "      <th></th>\n",
       "      <th>country</th>\n",
       "      <th>description</th>\n",
       "      <th>designation</th>\n",
       "      <th>points</th>\n",
       "      <th>price</th>\n",
       "      <th>province</th>\n",
       "      <th>region_1</th>\n",
       "      <th>region_2</th>\n",
       "      <th>variety</th>\n",
       "      <th>winery</th>\n",
       "    </tr>\n",
       "  </thead>\n",
       "  <tbody>\n",
       "    <tr>\n",
       "      <th>0</th>\n",
       "      <td>Macedonia</td>\n",
       "      <td>This Macedonian wine made from 100% Å½ilavka h...</td>\n",
       "      <td>NaN</td>\n",
       "      <td>88</td>\n",
       "      <td>15.0</td>\n",
       "      <td>Tikves</td>\n",
       "      <td>NaN</td>\n",
       "      <td>NaN</td>\n",
       "      <td>Å½ilavka</td>\n",
       "      <td>Stobi</td>\n",
       "    </tr>\n",
       "    <tr>\n",
       "      <th>1</th>\n",
       "      <td>Macedonia</td>\n",
       "      <td>This Macedonian white is bright yellow with gr...</td>\n",
       "      <td>NaN</td>\n",
       "      <td>86</td>\n",
       "      <td>13.0</td>\n",
       "      <td>Tikves</td>\n",
       "      <td>NaN</td>\n",
       "      <td>NaN</td>\n",
       "      <td>Å½ilavka</td>\n",
       "      <td>Stobi</td>\n",
       "    </tr>\n",
       "    <tr>\n",
       "      <th>2</th>\n",
       "      <td>Greece</td>\n",
       "      <td>Cinnamon, black cherry and spice aromas lead i...</td>\n",
       "      <td>Gaia Estate</td>\n",
       "      <td>91</td>\n",
       "      <td>39.0</td>\n",
       "      <td>Nemea</td>\n",
       "      <td>NaN</td>\n",
       "      <td>NaN</td>\n",
       "      <td>Agiorgitiko</td>\n",
       "      <td>Gaia Wines</td>\n",
       "    </tr>\n",
       "    <tr>\n",
       "      <th>3</th>\n",
       "      <td>Greece</td>\n",
       "      <td>Blackberry, cherry and cedar start this rich, ...</td>\n",
       "      <td>Driopi Classic</td>\n",
       "      <td>91</td>\n",
       "      <td>22.0</td>\n",
       "      <td>Nemea</td>\n",
       "      <td>NaN</td>\n",
       "      <td>NaN</td>\n",
       "      <td>Agiorgitiko</td>\n",
       "      <td>Tselepos</td>\n",
       "    </tr>\n",
       "    <tr>\n",
       "      <th>4</th>\n",
       "      <td>Greece</td>\n",
       "      <td>Succulent raisins, red berries and spice lead ...</td>\n",
       "      <td>Hgemon Grande RÃ©serve</td>\n",
       "      <td>89</td>\n",
       "      <td>65.0</td>\n",
       "      <td>Nemea</td>\n",
       "      <td>NaN</td>\n",
       "      <td>NaN</td>\n",
       "      <td>Agiorgitiko</td>\n",
       "      <td>Nemeion Estate</td>\n",
       "    </tr>\n",
       "  </tbody>\n",
       "</table>\n",
       "</div>"
      ],
      "text/plain": [
       "     country                                        description  \\\n",
       "0  Macedonia  This Macedonian wine made from 100% Å½ilavka h...   \n",
       "1  Macedonia  This Macedonian white is bright yellow with gr...   \n",
       "2     Greece  Cinnamon, black cherry and spice aromas lead i...   \n",
       "3     Greece  Blackberry, cherry and cedar start this rich, ...   \n",
       "4     Greece  Succulent raisins, red berries and spice lead ...   \n",
       "\n",
       "              designation  points  price province region_1 region_2  \\\n",
       "0                     NaN      88   15.0   Tikves      NaN      NaN   \n",
       "1                     NaN      86   13.0   Tikves      NaN      NaN   \n",
       "2             Gaia Estate      91   39.0    Nemea      NaN      NaN   \n",
       "3          Driopi Classic      91   22.0    Nemea      NaN      NaN   \n",
       "4  Hgemon Grande RÃ©serve      89   65.0    Nemea      NaN      NaN   \n",
       "\n",
       "       variety          winery  \n",
       "0     Å½ilavka           Stobi  \n",
       "1     Å½ilavka           Stobi  \n",
       "2  Agiorgitiko      Gaia Wines  \n",
       "3  Agiorgitiko        Tselepos  \n",
       "4  Agiorgitiko  Nemeion Estate  "
      ]
     },
     "execution_count": 3,
     "metadata": {},
     "output_type": "execute_result"
    }
   ],
   "source": [
    "winexl_df.head()"
   ]
  },
  {
   "cell_type": "code",
   "execution_count": 4,
   "metadata": {},
   "outputs": [],
   "source": [
    "winexl_df.to_html(\"data.html\")"
   ]
  },
  {
   "cell_type": "code",
   "execution_count": null,
   "metadata": {},
   "outputs": [],
   "source": []
  }
 ],
 "metadata": {
  "kernelspec": {
   "display_name": "Python [conda env:PythonData]",
   "language": "python",
   "name": "conda-env-PythonData-py"
  },
  "language_info": {
   "codemirror_mode": {
    "name": "ipython",
    "version": 3
   },
   "file_extension": ".py",
   "mimetype": "text/x-python",
   "name": "python",
   "nbconvert_exporter": "python",
   "pygments_lexer": "ipython3",
   "version": "3.6.10"
  }
 },
 "nbformat": 4,
 "nbformat_minor": 4
}
