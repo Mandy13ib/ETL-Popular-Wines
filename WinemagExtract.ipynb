{
 "cells": [
  {
   "cell_type": "markdown",
   "metadata": {},
   "source": [
    "# Winemag SCV Extract and Cleanup"
   ]
  },
  {
   "cell_type": "markdown",
   "metadata": {},
   "source": [
    "Comments: \n",
    "    1) Convert CSV into DataFrame\n",
    "    2) Create new data frame with select columns\n",
    "    3) Determinied that there were incomplete rows and eliminated those rows. \n",
    "    4) Evaluated data to determine that data was of the appropriate type. It looked good for now.\n",
    "    5) Renamed Pinot Grigio to match Pinot Gris in other dataset. \n",
    "    5) Eliminated all wines that were not included in the top 6 favorite wines per https://artwinepreserver.com/pages/types-of-wine. \n",
    "    6) Reindexed the DataFrame after eliminating non-top 6 wines.  \n",
    " "
   ]
  },
  {
   "cell_type": "code",
   "execution_count": 1,
   "metadata": {},
   "outputs": [],
   "source": [
    "import pandas as pd\n",
    "from sqlalchemy import create_engine"
   ]
  },
  {
   "cell_type": "markdown",
   "metadata": {},
   "source": [
    "### Store CSV into DataFrame"
   ]
  },
  {
   "cell_type": "code",
   "execution_count": 2,
   "metadata": {},
   "outputs": [
    {
     "data": {
      "text/html": [
       "<div>\n",
       "<style scoped>\n",
       "    .dataframe tbody tr th:only-of-type {\n",
       "        vertical-align: middle;\n",
       "    }\n",
       "\n",
       "    .dataframe tbody tr th {\n",
       "        vertical-align: top;\n",
       "    }\n",
       "\n",
       "    .dataframe thead th {\n",
       "        text-align: right;\n",
       "    }\n",
       "</style>\n",
       "<table border=\"1\" class=\"dataframe\">\n",
       "  <thead>\n",
       "    <tr style=\"text-align: right;\">\n",
       "      <th></th>\n",
       "      <th>Unnamed: 0</th>\n",
       "      <th>country</th>\n",
       "      <th>description</th>\n",
       "      <th>designation</th>\n",
       "      <th>points</th>\n",
       "      <th>price</th>\n",
       "      <th>province</th>\n",
       "      <th>region_1</th>\n",
       "      <th>region_2</th>\n",
       "      <th>variety</th>\n",
       "      <th>winery</th>\n",
       "    </tr>\n",
       "  </thead>\n",
       "  <tbody>\n",
       "    <tr>\n",
       "      <th>0</th>\n",
       "      <td>34920</td>\n",
       "      <td>France</td>\n",
       "      <td>A big, powerful wine that sums up the richness...</td>\n",
       "      <td>NaN</td>\n",
       "      <td>99</td>\n",
       "      <td>2300.0</td>\n",
       "      <td>Bordeaux</td>\n",
       "      <td>Pauillac</td>\n",
       "      <td>NaN</td>\n",
       "      <td>Bordeaux-style Red Blend</td>\n",
       "      <td>Château Latour</td>\n",
       "    </tr>\n",
       "    <tr>\n",
       "      <th>1</th>\n",
       "      <td>13318</td>\n",
       "      <td>US</td>\n",
       "      <td>The nose on this single-vineyard wine from a s...</td>\n",
       "      <td>Roger Rose Vineyard</td>\n",
       "      <td>91</td>\n",
       "      <td>2013.0</td>\n",
       "      <td>California</td>\n",
       "      <td>Arroyo Seco</td>\n",
       "      <td>Central Coast</td>\n",
       "      <td>Chardonnay</td>\n",
       "      <td>Blair</td>\n",
       "    </tr>\n",
       "    <tr>\n",
       "      <th>2</th>\n",
       "      <td>34922</td>\n",
       "      <td>France</td>\n",
       "      <td>A massive wine for Margaux, packed with tannin...</td>\n",
       "      <td>NaN</td>\n",
       "      <td>98</td>\n",
       "      <td>1900.0</td>\n",
       "      <td>Bordeaux</td>\n",
       "      <td>Margaux</td>\n",
       "      <td>NaN</td>\n",
       "      <td>Bordeaux-style Red Blend</td>\n",
       "      <td>Château Margaux</td>\n",
       "    </tr>\n",
       "    <tr>\n",
       "      <th>3</th>\n",
       "      <td>26296</td>\n",
       "      <td>France</td>\n",
       "      <td>A wine that has created its own universe. It h...</td>\n",
       "      <td>Clos du Mesnil</td>\n",
       "      <td>100</td>\n",
       "      <td>1400.0</td>\n",
       "      <td>Champagne</td>\n",
       "      <td>Champagne</td>\n",
       "      <td>NaN</td>\n",
       "      <td>Chardonnay</td>\n",
       "      <td>Krug</td>\n",
       "    </tr>\n",
       "    <tr>\n",
       "      <th>4</th>\n",
       "      <td>51886</td>\n",
       "      <td>France</td>\n",
       "      <td>A wine that has created its own universe. It h...</td>\n",
       "      <td>Clos du Mesnil</td>\n",
       "      <td>100</td>\n",
       "      <td>1400.0</td>\n",
       "      <td>Champagne</td>\n",
       "      <td>Champagne</td>\n",
       "      <td>NaN</td>\n",
       "      <td>Chardonnay</td>\n",
       "      <td>Krug</td>\n",
       "    </tr>\n",
       "  </tbody>\n",
       "</table>\n",
       "</div>"
      ],
      "text/plain": [
       "   Unnamed: 0 country                                        description  \\\n",
       "0       34920  France  A big, powerful wine that sums up the richness...   \n",
       "1       13318      US  The nose on this single-vineyard wine from a s...   \n",
       "2       34922  France  A massive wine for Margaux, packed with tannin...   \n",
       "3       26296  France  A wine that has created its own universe. It h...   \n",
       "4       51886  France  A wine that has created its own universe. It h...   \n",
       "\n",
       "           designation  points   price    province     region_1  \\\n",
       "0                  NaN      99  2300.0    Bordeaux     Pauillac   \n",
       "1  Roger Rose Vineyard      91  2013.0  California  Arroyo Seco   \n",
       "2                  NaN      98  1900.0    Bordeaux      Margaux   \n",
       "3       Clos du Mesnil     100  1400.0   Champagne    Champagne   \n",
       "4       Clos du Mesnil     100  1400.0   Champagne    Champagne   \n",
       "\n",
       "        region_2                   variety           winery  \n",
       "0            NaN  Bordeaux-style Red Blend   Château Latour  \n",
       "1  Central Coast                Chardonnay            Blair  \n",
       "2            NaN  Bordeaux-style Red Blend  Château Margaux  \n",
       "3            NaN                Chardonnay             Krug  \n",
       "4            NaN                Chardonnay             Krug  "
      ]
     },
     "execution_count": 2,
     "metadata": {},
     "output_type": "execute_result"
    }
   ],
   "source": [
    "csv_file = \"Resources/winemag-data_first150k_for_project.csv\"\n",
    "winemag_data_df = pd.read_csv(csv_file)\n",
    "winemag_data_df.head()"
   ]
  },
  {
   "cell_type": "markdown",
   "metadata": {},
   "source": [
    "### Create new data frame with select columns"
   ]
  },
  {
   "cell_type": "code",
   "execution_count": 3,
   "metadata": {
    "scrolled": true
   },
   "outputs": [
    {
     "data": {
      "text/html": [
       "<div>\n",
       "<style scoped>\n",
       "    .dataframe tbody tr th:only-of-type {\n",
       "        vertical-align: middle;\n",
       "    }\n",
       "\n",
       "    .dataframe tbody tr th {\n",
       "        vertical-align: top;\n",
       "    }\n",
       "\n",
       "    .dataframe thead th {\n",
       "        text-align: right;\n",
       "    }\n",
       "</style>\n",
       "<table border=\"1\" class=\"dataframe\">\n",
       "  <thead>\n",
       "    <tr style=\"text-align: right;\">\n",
       "      <th></th>\n",
       "      <th>country</th>\n",
       "      <th>description</th>\n",
       "      <th>points</th>\n",
       "      <th>price</th>\n",
       "      <th>province</th>\n",
       "      <th>variety</th>\n",
       "      <th>winery</th>\n",
       "    </tr>\n",
       "  </thead>\n",
       "  <tbody>\n",
       "    <tr>\n",
       "      <th>0</th>\n",
       "      <td>France</td>\n",
       "      <td>A big, powerful wine that sums up the richness...</td>\n",
       "      <td>99</td>\n",
       "      <td>2300.0</td>\n",
       "      <td>Bordeaux</td>\n",
       "      <td>Bordeaux-style Red Blend</td>\n",
       "      <td>Château Latour</td>\n",
       "    </tr>\n",
       "    <tr>\n",
       "      <th>1</th>\n",
       "      <td>US</td>\n",
       "      <td>The nose on this single-vineyard wine from a s...</td>\n",
       "      <td>91</td>\n",
       "      <td>2013.0</td>\n",
       "      <td>California</td>\n",
       "      <td>Chardonnay</td>\n",
       "      <td>Blair</td>\n",
       "    </tr>\n",
       "    <tr>\n",
       "      <th>2</th>\n",
       "      <td>France</td>\n",
       "      <td>A massive wine for Margaux, packed with tannin...</td>\n",
       "      <td>98</td>\n",
       "      <td>1900.0</td>\n",
       "      <td>Bordeaux</td>\n",
       "      <td>Bordeaux-style Red Blend</td>\n",
       "      <td>Château Margaux</td>\n",
       "    </tr>\n",
       "    <tr>\n",
       "      <th>3</th>\n",
       "      <td>France</td>\n",
       "      <td>A wine that has created its own universe. It h...</td>\n",
       "      <td>100</td>\n",
       "      <td>1400.0</td>\n",
       "      <td>Champagne</td>\n",
       "      <td>Chardonnay</td>\n",
       "      <td>Krug</td>\n",
       "    </tr>\n",
       "    <tr>\n",
       "      <th>4</th>\n",
       "      <td>France</td>\n",
       "      <td>A wine that has created its own universe. It h...</td>\n",
       "      <td>100</td>\n",
       "      <td>1400.0</td>\n",
       "      <td>Champagne</td>\n",
       "      <td>Chardonnay</td>\n",
       "      <td>Krug</td>\n",
       "    </tr>\n",
       "  </tbody>\n",
       "</table>\n",
       "</div>"
      ],
      "text/plain": [
       "  country                                        description  points   price  \\\n",
       "0  France  A big, powerful wine that sums up the richness...      99  2300.0   \n",
       "1      US  The nose on this single-vineyard wine from a s...      91  2013.0   \n",
       "2  France  A massive wine for Margaux, packed with tannin...      98  1900.0   \n",
       "3  France  A wine that has created its own universe. It h...     100  1400.0   \n",
       "4  France  A wine that has created its own universe. It h...     100  1400.0   \n",
       "\n",
       "     province                   variety           winery  \n",
       "0    Bordeaux  Bordeaux-style Red Blend   Château Latour  \n",
       "1  California                Chardonnay            Blair  \n",
       "2    Bordeaux  Bordeaux-style Red Blend  Château Margaux  \n",
       "3   Champagne                Chardonnay             Krug  \n",
       "4   Champagne                Chardonnay             Krug  "
      ]
     },
     "execution_count": 3,
     "metadata": {},
     "output_type": "execute_result"
    }
   ],
   "source": [
    "new_winemag_data_df = winemag_data_df[['country', 'description', 'points', 'price', 'province', 'variety', 'winery']].copy()\n",
    "new_winemag_data_df.head()"
   ]
  },
  {
   "cell_type": "markdown",
   "metadata": {},
   "source": [
    "### Basic Cleaning"
   ]
  },
  {
   "cell_type": "code",
   "execution_count": 4,
   "metadata": {},
   "outputs": [
    {
     "data": {
      "text/plain": [
       "country        150925\n",
       "description    150930\n",
       "points         150930\n",
       "price          137235\n",
       "province       150925\n",
       "variety        150930\n",
       "winery         150930\n",
       "dtype: int64"
      ]
     },
     "execution_count": 4,
     "metadata": {},
     "output_type": "execute_result"
    }
   ],
   "source": [
    "# Check for missing information\n",
    "new_winemag_data_df.count()"
   ]
  },
  {
   "cell_type": "code",
   "execution_count": 5,
   "metadata": {},
   "outputs": [],
   "source": [
    "# Drop all rows with missing information\n",
    "new_winemag_data_df = new_winemag_data_df.dropna(how='any')"
   ]
  },
  {
   "cell_type": "code",
   "execution_count": 6,
   "metadata": {},
   "outputs": [
    {
     "data": {
      "text/plain": [
       "country        137230\n",
       "description    137230\n",
       "points         137230\n",
       "price          137230\n",
       "province       137230\n",
       "variety        137230\n",
       "winery         137230\n",
       "dtype: int64"
      ]
     },
     "execution_count": 6,
     "metadata": {},
     "output_type": "execute_result"
    }
   ],
   "source": [
    "# Check that all columns have the same amount of rows now. \n",
    "new_winemag_data_df.count()"
   ]
  },
  {
   "cell_type": "code",
   "execution_count": 7,
   "metadata": {},
   "outputs": [
    {
     "data": {
      "text/plain": [
       "country         object\n",
       "description     object\n",
       "points           int64\n",
       "price          float64\n",
       "province        object\n",
       "variety         object\n",
       "winery          object\n",
       "dtype: object"
      ]
     },
     "execution_count": 7,
     "metadata": {},
     "output_type": "execute_result"
    }
   ],
   "source": [
    "# Check that the data types fit the data. \n",
    "new_winemag_data_df.dtypes"
   ]
  },
  {
   "cell_type": "code",
   "execution_count": 8,
   "metadata": {
    "scrolled": true
   },
   "outputs": [
    {
     "data": {
      "text/plain": [
       "Chardonnay            13775\n",
       "Pinot Noir            13625\n",
       "Cabernet Sauvignon    12671\n",
       "Red Blend              9377\n",
       "Sauvignon Blanc        6054\n",
       "                      ...  \n",
       "Pinotage-Merlot           1\n",
       "Forcallà                  1\n",
       "Pinela                    1\n",
       "Früburgunder              1\n",
       "Erbaluce                  1\n",
       "Name: variety, Length: 619, dtype: int64"
      ]
     },
     "execution_count": 8,
     "metadata": {},
     "output_type": "execute_result"
    }
   ],
   "source": [
    "# look at the values in the 'variety' column.\n",
    "new_winemag_data_df['variety'].value_counts()"
   ]
  },
  {
   "cell_type": "markdown",
   "metadata": {},
   "source": [
    "Looking at the csv file directly, it was clear both Pinot Grigio and Pinot Gris where listed in the variety column. The cell below renames Pinot Grigio to Pinot Gris to match the other data set. "
   ]
  },
  {
   "cell_type": "code",
   "execution_count": 9,
   "metadata": {},
   "outputs": [],
   "source": [
    "new_winemag_data_df['variety'] = new_winemag_data_df['variety'].replace(\n",
    "    {'Pinot Grigio': 'Pinot Gris'})"
   ]
  },
  {
   "cell_type": "markdown",
   "metadata": {},
   "source": [
    "Isolate the top 6 wine types per https://artwinepreserver.com/pages/types-of-wine: Cabernet Sauvignon, Chardonnay, Pinot Grigio, Pinot Noir, Sauvignon Blanc, Merlot. "
   ]
  },
  {
   "cell_type": "code",
   "execution_count": 10,
   "metadata": {},
   "outputs": [
    {
     "data": {
      "text/plain": [
       "Chardonnay            13775\n",
       "Pinot Noir            13625\n",
       "Cabernet Sauvignon    12671\n",
       "Sauvignon Blanc        6054\n",
       "Merlot                 4987\n",
       "Pinot Gris             2545\n",
       "Name: variety, dtype: int64"
      ]
     },
     "execution_count": 10,
     "metadata": {},
     "output_type": "execute_result"
    }
   ],
   "source": [
    "new_winemag_df = new_winemag_data_df.loc[(new_winemag_data_df['variety'] == \"Cabernet Sauvignon\") | (new_winemag_data_df['variety'] == \"Chardonnay\") \n",
    "                       | (new_winemag_data_df['variety'] == \"Pinot Gris\") | (new_winemag_data_df['variety'] == \"Pinot Noir\")\n",
    "                       | (new_winemag_data_df['variety'] == \"Sauvignon Blanc\") | (new_winemag_data_df['variety'] == \"Merlot\")]\n",
    "count = new_winemag_df['variety'].value_counts()\n",
    "count"
   ]
  },
  {
   "cell_type": "code",
   "execution_count": 16,
   "metadata": {},
   "outputs": [
    {
     "data": {
      "text/plain": [
       "country        35029\n",
       "description    35029\n",
       "points         35029\n",
       "price          35029\n",
       "province       35029\n",
       "variety        35029\n",
       "winery         35029\n",
       "dtype: int64"
      ]
     },
     "execution_count": 16,
     "metadata": {},
     "output_type": "execute_result"
    }
   ],
   "source": [
    "us_winemag_df = new_winemag_df.loc[(new_winemag_df['country'] == \"US\")] \n",
    "us_winemag_df.count()"
   ]
  },
  {
   "cell_type": "code",
   "execution_count": 12,
   "metadata": {},
   "outputs": [
    {
     "data": {
      "text/html": [
       "<div>\n",
       "<style scoped>\n",
       "    .dataframe tbody tr th:only-of-type {\n",
       "        vertical-align: middle;\n",
       "    }\n",
       "\n",
       "    .dataframe tbody tr th {\n",
       "        vertical-align: top;\n",
       "    }\n",
       "\n",
       "    .dataframe thead th {\n",
       "        text-align: right;\n",
       "    }\n",
       "</style>\n",
       "<table border=\"1\" class=\"dataframe\">\n",
       "  <thead>\n",
       "    <tr style=\"text-align: right;\">\n",
       "      <th></th>\n",
       "      <th>country</th>\n",
       "      <th>description</th>\n",
       "      <th>points</th>\n",
       "      <th>price</th>\n",
       "      <th>province</th>\n",
       "      <th>variety</th>\n",
       "      <th>winery</th>\n",
       "    </tr>\n",
       "  </thead>\n",
       "  <tbody>\n",
       "    <tr>\n",
       "      <th>1</th>\n",
       "      <td>US</td>\n",
       "      <td>The nose on this single-vineyard wine from a s...</td>\n",
       "      <td>91</td>\n",
       "      <td>2013.0</td>\n",
       "      <td>California</td>\n",
       "      <td>Chardonnay</td>\n",
       "      <td>Blair</td>\n",
       "    </tr>\n",
       "    <tr>\n",
       "      <th>3</th>\n",
       "      <td>France</td>\n",
       "      <td>A wine that has created its own universe. It h...</td>\n",
       "      <td>100</td>\n",
       "      <td>1400.0</td>\n",
       "      <td>Champagne</td>\n",
       "      <td>Chardonnay</td>\n",
       "      <td>Krug</td>\n",
       "    </tr>\n",
       "    <tr>\n",
       "      <th>4</th>\n",
       "      <td>France</td>\n",
       "      <td>A wine that has created its own universe. It h...</td>\n",
       "      <td>100</td>\n",
       "      <td>1400.0</td>\n",
       "      <td>Champagne</td>\n",
       "      <td>Chardonnay</td>\n",
       "      <td>Krug</td>\n",
       "    </tr>\n",
       "    <tr>\n",
       "      <th>5</th>\n",
       "      <td>France</td>\n",
       "      <td>A wine that has created its own universe. It h...</td>\n",
       "      <td>100</td>\n",
       "      <td>1400.0</td>\n",
       "      <td>Champagne</td>\n",
       "      <td>Chardonnay</td>\n",
       "      <td>Krug</td>\n",
       "    </tr>\n",
       "    <tr>\n",
       "      <th>26</th>\n",
       "      <td>France</td>\n",
       "      <td>From arguably the finest white wine vineyard i...</td>\n",
       "      <td>98</td>\n",
       "      <td>757.0</td>\n",
       "      <td>Burgundy</td>\n",
       "      <td>Chardonnay</td>\n",
       "      <td>Bouchard Père &amp; Fils</td>\n",
       "    </tr>\n",
       "  </tbody>\n",
       "</table>\n",
       "</div>"
      ],
      "text/plain": [
       "   country                                        description  points   price  \\\n",
       "1       US  The nose on this single-vineyard wine from a s...      91  2013.0   \n",
       "3   France  A wine that has created its own universe. It h...     100  1400.0   \n",
       "4   France  A wine that has created its own universe. It h...     100  1400.0   \n",
       "5   France  A wine that has created its own universe. It h...     100  1400.0   \n",
       "26  France  From arguably the finest white wine vineyard i...      98   757.0   \n",
       "\n",
       "      province     variety                winery  \n",
       "1   California  Chardonnay                 Blair  \n",
       "3    Champagne  Chardonnay                  Krug  \n",
       "4    Champagne  Chardonnay                  Krug  \n",
       "5    Champagne  Chardonnay                  Krug  \n",
       "26    Burgundy  Chardonnay  Bouchard Père & Fils  "
      ]
     },
     "execution_count": 12,
     "metadata": {},
     "output_type": "execute_result"
    }
   ],
   "source": [
    "new_winemag_df.head()"
   ]
  },
  {
   "cell_type": "code",
   "execution_count": 13,
   "metadata": {
    "scrolled": false
   },
   "outputs": [
    {
     "data": {
      "text/html": [
       "<div>\n",
       "<style scoped>\n",
       "    .dataframe tbody tr th:only-of-type {\n",
       "        vertical-align: middle;\n",
       "    }\n",
       "\n",
       "    .dataframe tbody tr th {\n",
       "        vertical-align: top;\n",
       "    }\n",
       "\n",
       "    .dataframe thead th {\n",
       "        text-align: right;\n",
       "    }\n",
       "</style>\n",
       "<table border=\"1\" class=\"dataframe\">\n",
       "  <thead>\n",
       "    <tr style=\"text-align: right;\">\n",
       "      <th></th>\n",
       "      <th>country</th>\n",
       "      <th>description</th>\n",
       "      <th>points</th>\n",
       "      <th>price</th>\n",
       "      <th>province</th>\n",
       "      <th>variety</th>\n",
       "      <th>winery</th>\n",
       "    </tr>\n",
       "  </thead>\n",
       "  <tbody>\n",
       "    <tr>\n",
       "      <th>0</th>\n",
       "      <td>US</td>\n",
       "      <td>The nose on this single-vineyard wine from a s...</td>\n",
       "      <td>91</td>\n",
       "      <td>2013.0</td>\n",
       "      <td>California</td>\n",
       "      <td>Chardonnay</td>\n",
       "      <td>Blair</td>\n",
       "    </tr>\n",
       "    <tr>\n",
       "      <th>1</th>\n",
       "      <td>France</td>\n",
       "      <td>A wine that has created its own universe. It h...</td>\n",
       "      <td>100</td>\n",
       "      <td>1400.0</td>\n",
       "      <td>Champagne</td>\n",
       "      <td>Chardonnay</td>\n",
       "      <td>Krug</td>\n",
       "    </tr>\n",
       "    <tr>\n",
       "      <th>2</th>\n",
       "      <td>France</td>\n",
       "      <td>A wine that has created its own universe. It h...</td>\n",
       "      <td>100</td>\n",
       "      <td>1400.0</td>\n",
       "      <td>Champagne</td>\n",
       "      <td>Chardonnay</td>\n",
       "      <td>Krug</td>\n",
       "    </tr>\n",
       "    <tr>\n",
       "      <th>3</th>\n",
       "      <td>France</td>\n",
       "      <td>A wine that has created its own universe. It h...</td>\n",
       "      <td>100</td>\n",
       "      <td>1400.0</td>\n",
       "      <td>Champagne</td>\n",
       "      <td>Chardonnay</td>\n",
       "      <td>Krug</td>\n",
       "    </tr>\n",
       "    <tr>\n",
       "      <th>4</th>\n",
       "      <td>France</td>\n",
       "      <td>From arguably the finest white wine vineyard i...</td>\n",
       "      <td>98</td>\n",
       "      <td>757.0</td>\n",
       "      <td>Burgundy</td>\n",
       "      <td>Chardonnay</td>\n",
       "      <td>Bouchard Père &amp; Fils</td>\n",
       "    </tr>\n",
       "  </tbody>\n",
       "</table>\n",
       "</div>"
      ],
      "text/plain": [
       "  country                                        description  points   price  \\\n",
       "0      US  The nose on this single-vineyard wine from a s...      91  2013.0   \n",
       "1  France  A wine that has created its own universe. It h...     100  1400.0   \n",
       "2  France  A wine that has created its own universe. It h...     100  1400.0   \n",
       "3  France  A wine that has created its own universe. It h...     100  1400.0   \n",
       "4  France  From arguably the finest white wine vineyard i...      98   757.0   \n",
       "\n",
       "     province     variety                winery  \n",
       "0  California  Chardonnay                 Blair  \n",
       "1   Champagne  Chardonnay                  Krug  \n",
       "2   Champagne  Chardonnay                  Krug  \n",
       "3   Champagne  Chardonnay                  Krug  \n",
       "4    Burgundy  Chardonnay  Bouchard Père & Fils  "
      ]
     },
     "execution_count": 13,
     "metadata": {},
     "output_type": "execute_result"
    }
   ],
   "source": [
    "new_winemag_df = new_winemag_df.reset_index(drop=True)\n",
    "new_winemag_df.head()"
   ]
  }
 ],
 "metadata": {
  "kernelspec": {
   "display_name": "Python 3",
   "language": "python",
   "name": "python3"
  },
  "language_info": {
   "codemirror_mode": {
    "name": "ipython",
    "version": 3
   },
   "file_extension": ".py",
   "mimetype": "text/x-python",
   "name": "python",
   "nbconvert_exporter": "python",
   "pygments_lexer": "ipython3",
   "version": "3.8.5"
  }
 },
 "nbformat": 4,
 "nbformat_minor": 4
}
